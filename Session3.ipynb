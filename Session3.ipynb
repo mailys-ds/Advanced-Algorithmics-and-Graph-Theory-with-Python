{
 "cells": [
  {
   "cell_type": "markdown",
   "metadata": {
    "collapsed": true,
    "nbgrader": {
     "grade": false,
     "grade_id": "cell-23a1144a4505ffd8",
     "locked": true,
     "schema_version": 1,
     "solution": false
    }
   },
   "source": [
    "Welcome to the third exercise of the \"Advanced algorithmics and graph theory with Python\" MOOC. In this exercise you will learn how to implement the Dijkstra algorithm that finds a minimum spanning tree in a weighted graph using Python.\n",
    "\n",
    "The main objective of this exercise is to:\n",
    "* Evaluate the complexity of an algorithm\n",
    "* Write functions to compute and follow a shortest path in a weighted graph\n",
    "\n",
    "Based on what we learned in the previous exercices, we will define advanced functions and use them to describe the Dijkstra algorithm."
   ]
  },
  {
   "cell_type": "markdown",
   "metadata": {
    "collapsed": true,
    "nbgrader": {
     "grade": false,
     "grade_id": "cell-f5ff6577f8e411b3",
     "locked": true,
     "schema_version": 1,
     "solution": false
    }
   },
   "source": [
    "As you have seen in the lessons, to implement Dijkstra algorithm, we will use min-heaps.\n",
    "There exists libraries in Python to provide efficient implementations of min-heaps, but for the sake of pedagogy we will provide our own nonoptimal implementation using lists.\n",
    "\n",
    "Recall that a min-heap stores elements of the form (key, value).\n",
    "Here the content of the min-heap will be stored into a list, such that the elements of the list are ordered according to increasing values.\n",
    "\n",
    "In the context of graphs, we should store elements of the form (vertex, estimated_distance_of_the_vertex_to_origin) in the heap. Because we want to build routing tables, we will instead store triplets of the form (vertex, estimated_distance_of_the_vertex_to_origin, parent_of_the_vertex).\n",
    "\n",
    "So, in summary, our implementation of min_heaps is a list in which elements are triplets of the form (vertex, estimated_distance_of_the_vertex_to_origin, parent_of_the_vertex), sorted in ascending order of estimated distances, and such that there are no two such triplets with the same vertex.\n",
    "\n",
    "The advantage of using this representation is that it is very easy to implement the heap_pop function, as the element to return is the element of smallest estimated distance, which happens to be the first one in the list.\n",
    "\n",
    "Here is the corresponding code:"
   ]
  },
  {
   "cell_type": "code",
   "execution_count": 4,
   "metadata": {
    "nbgrader": {
     "grade": false,
     "grade_id": "cell-f753a0379ee0a2f6",
     "locked": true,
     "schema_version": 1,
     "solution": false
    }
   },
   "outputs": [
    {
     "name": "stdout",
     "output_type": "stream",
     "text": [
      "The element of the heap of minimum distance contains as vertex: (1, 1), as distance: 2, and as parent: (1, 0)\n"
     ]
    }
   ],
   "source": [
    "# heap_pop function returns the first element of the list implementing the heap, providing the heap is not empty\n",
    "def heap_pop(heap):\n",
    "    if heap != []:\n",
    "        vertex,weight,parent = heap.pop(0)\n",
    "        return (vertex, weight, parent)\n",
    "    else:\n",
    "        raise\n",
    "\n",
    "example_triplet_heap=[\n",
    "    ((1,1),2,(1,0)),\n",
    "    ((1,2),4,(0,2)),\n",
    "    ((2,1),18,(2,0))\n",
    "]\n",
    "\n",
    "(vertex, distance, parent) = heap_pop(example_triplet_heap)\n",
    "print(\"The element of the heap of minimum distance contains as vertex: {}, as distance: {}, and as parent: {}\".format(vertex,distance,parent))"
   ]
  },
  {
   "cell_type": "markdown",
   "metadata": {
    "nbgrader": {
     "grade": false,
     "grade_id": "cell-cbec24e600afe658",
     "locked": true,
     "schema_version": 1,
     "solution": false
    }
   },
   "source": [
    "After executing the cell above, the expected result is:\n",
    "\n",
    "   The element of the heap of minimum distance contains as vertex: (1, 1), as distance: 2, and as parent: (1, 0)"
   ]
  },
  {
   "cell_type": "markdown",
   "metadata": {
    "collapsed": true,
    "nbgrader": {
     "grade": false,
     "grade_id": "cell-58454496b8999a32",
     "locked": true,
     "schema_version": 1,
     "solution": false
    }
   },
   "source": [
    "## Exercise A (1pt)\n",
    "\n",
    "Now that we can extract elements from the heap we need to define how to add or replace elements in it. This will be similar to the push functionality seen in Lab 2, but this time a bit more complex as we have to take the estimated distances into account when performing the push. Also, we do not want duplicate vertices in the heap: only the one with smallest estimated distance should be kept.\n",
    "\n",
    "The heap_add_or_replace function takes a heap and a triplet (vertex,distance,parent) as arguments and modify the heap so that the triplets are maintained in ascending order of their distance values. It will also ensure that no duplicate entries corresponding to the same vertex occur in the heap.\n",
    "\n",
    "The function returns nothing but the heap is modified during the process."
   ]
  },
  {
   "cell_type": "code",
   "execution_count": 5,
   "metadata": {
    "collapsed": true,
    "nbgrader": {
     "grade": false,
     "grade_id": "exercice_A",
     "locked": false,
     "points": "1",
     "schema_version": 1,
     "solution": true
    }
   },
   "outputs": [],
   "source": [
    "def heap_add_or_replace(heap, triplet):\n",
    "    \n",
    "    vertex_not_in_the_heap = True\n",
    "    \n",
    "    if len(heap) != 0:\n",
    "        \n",
    "        ### First : check if the vertex is not already in the heap and has to be replaced or not ###\n",
    "        for i in range(len(heap)):\n",
    "            \n",
    "            # The vertex is already in the heap and has a smaller distance, the tupple is replaced #\n",
    "            if heap[i][0] == triplet[0] and triplet[1] < heap[i][1]:\n",
    "                heap.pop(i)\n",
    "                heap.append(triplet)\n",
    "                vertex_not_in_the_heap = False\n",
    "                \n",
    "            # The vertex is already in the heap and has a bigger distance, nothing happens #\n",
    "            if heap[i][0] == triplet[0] and triplet[1] > heap[i][1]:\n",
    "                vertex_not_in_the_heap = False\n",
    "        \n",
    "        # If vertex not already in the heap, add the tupple and sort the heap by the distance\n",
    "        if vertex_not_in_the_heap:\n",
    "            heap.append(triplet)\n",
    "        heap.sort(key=lambda x:x[1])\n",
    "    \n",
    "    else:\n",
    "        heap.append(triplet)"
   ]
  },
  {
   "cell_type": "code",
   "execution_count": 6,
   "metadata": {
    "deletable": false,
    "nbgrader": {
     "grade": true,
     "grade_id": "exercice_A",
     "locked": true,
     "points": "1",
     "schema_version": 1,
     "solution": false
    }
   },
   "outputs": [
    {
     "name": "stdout",
     "output_type": "stream",
     "text": [
      "the new heap is: [((2, 3), 0.9, (1, 0))]\n",
      "the new heap is: [((7, 2), 0.3, (2, 2)), ((2, 3), 0.9, (1, 0))]\n",
      "the new heap is: [((7, 2), 0.3, (2, 2)), ((2, 3), 0.9, (1, 0)), ((3, 2), 1, (2, 2))]\n",
      "the new heap is: [((7, 2), 0.3, (2, 2)), ((2, 3), 0.9, (1, 0)), ((3, 2), 1, (2, 2))]\n",
      "the new heap is: [((7, 2), 0.2, (2, 3)), ((2, 3), 0.9, (1, 0)), ((3, 2), 1, (2, 2))]\n",
      "the new heap is: [((7, 2), 0.2, (2, 3)), ((1, 2), 0.3, (2, 3)), ((2, 3), 0.9, (1, 0)), ((3, 2), 1, (2, 2))]\n",
      "the new heap is: [((1, 2), 0.1, (2, 3)), ((7, 2), 0.2, (2, 3)), ((2, 3), 0.9, (1, 0)), ((3, 2), 1, (2, 2))]\n",
      "the new heap is: [((1, 2), 0.05, (2, 0)), ((7, 2), 0.2, (2, 3)), ((2, 3), 0.9, (1, 0)), ((3, 2), 1, (2, 2))]\n",
      "the new heap is: [((1, 2), 0.05, (2, 0)), ((7, 2), 0.2, (2, 3)), ((2, 3), 0.9, (1, 0)), ((3, 2), 1, (2, 2)), ((4, 6), 2, (2, 3))]\n",
      "the new heap is: [((1, 2), 0.01, (2, 0)), ((7, 2), 0.2, (2, 3)), ((2, 3), 0.9, (1, 0)), ((3, 2), 1, (2, 2)), ((4, 6), 2, (2, 3))]\n",
      "the new heap is: [((1, 2), 0.01, (2, 0)), ((7, 2), 0.2, (2, 3)), ((2, 3), 0.9, (1, 0)), ((3, 2), 1, (2, 2)), ((4, 6), 2, (2, 3))]\n"
     ]
    }
   ],
   "source": [
    "#\n",
    "# AUTOGRADER TEST - DO NOT REMOVE\n",
    "#\n",
    "\n",
    "triplet_heap=list()\n",
    "\n",
    "heap_add_or_replace(triplet_heap,((2,3),0.9,(1,0)))\n",
    "print(\"the new heap is: \"+str(triplet_heap))\n",
    "\n",
    "heap_add_or_replace(triplet_heap,((7,2),0.3,(2,2)))\n",
    "print(\"the new heap is: \"+str(triplet_heap))\n",
    "\n",
    "heap_add_or_replace(triplet_heap,((3,2),1,(2,2)))\n",
    "print(\"the new heap is: \"+str(triplet_heap))\n",
    "\n",
    "print(\"the new heap is: \"+str(triplet_heap))\n",
    "\n",
    "heap_add_or_replace(triplet_heap,((7,2),0.2,(2,3)))\n",
    "print(\"the new heap is: \"+str(triplet_heap))\n",
    "\n",
    "heap_add_or_replace(triplet_heap,((1,2),0.3,(2,3)))\n",
    "print(\"the new heap is: \"+str(triplet_heap))\n",
    "\n",
    "heap_add_or_replace(triplet_heap,((1,2),0.1,(2,3)))\n",
    "print(\"the new heap is: \"+str(triplet_heap))\n",
    "\n",
    "heap_add_or_replace(triplet_heap,((1,2),0.05,(2,0)))\n",
    "print(\"the new heap is: \"+str(triplet_heap))\n",
    "\n",
    "heap_add_or_replace(triplet_heap,((4,6),2,(2,3)))\n",
    "print(\"the new heap is: \"+str(triplet_heap))\n",
    "\n",
    "heap_add_or_replace(triplet_heap,((1,2),0.01,(2,0)))\n",
    "print(\"the new heap is: \"+str(triplet_heap))\n",
    "\n",
    "heap_add_or_replace(triplet_heap,((4,6),9,(2,3)))\n",
    "print(\"the new heap is: \"+str(triplet_heap))\n"
   ]
  },
  {
   "cell_type": "markdown",
   "metadata": {
    "collapsed": true,
    "nbgrader": {
     "grade": false,
     "grade_id": "cell-07839ef2544c7135",
     "locked": true,
     "schema_version": 1,
     "solution": false
    }
   },
   "source": [
    "After coding the fuction heap_add_or_replace and execute the test code, the expected result is:\n",
    "\n",
    "    the new heap is: [((2, 3), 0.9, (1, 0))]\n",
    "    the new heap is: [((7, 2), 0.3, (2, 2)), ((2, 3), 0.9, (1, 0))]\n",
    "    the new heap is: [((7, 2), 0.3, (2, 2)), ((2, 3), 0.9, (1, 0)), ((3, 2), 1, (2, 2))]\n",
    "    the new heap is: [((7, 2), 0.3, (2, 2)), ((2, 3), 0.9, (1, 0)), ((3, 2), 1, (2, 2))]\n",
    "    the new heap is: [((7, 2), 0.2, (2, 3)), ((2, 3), 0.9, (1, 0)), ((3, 2), 1, (2, 2))]\n",
    "    the new heap is: [((7, 2), 0.2, (2, 3)), ((1, 2), 0.3, (2, 3)), ((2, 3), 0.9, (1, 0)), ((3, 2), 1, (2, 2))]\n",
    "    the new heap is: [((1, 2), 0.1, (2, 3)), ((7, 2), 0.2, (2, 3)), ((2, 3), 0.9, (1, 0)), ((3, 2), 1, (2, 2))]\n",
    "    the new heap is: [((1, 2), 0.05, (2, 0)), ((7, 2), 0.2, (2, 3)), ((2, 3), 0.9, (1, 0)), ((3, 2), 1, (2, 2))]\n",
    "    the new heap is: [((1, 2), 0.05, (2, 0)), ((7, 2), 0.2, (2, 3)), ((2, 3), 0.9, (1, 0)), ((3, 2), 1, (2, 2)), ((4, 6), 2, (2, 3))]\n",
    "    the new heap is: [((1, 2), 0.01, (2, 0)), ((7, 2), 0.2, (2, 3)), ((2, 3), 0.9, (1, 0)), ((3, 2), 1, (2, 2)), ((4, 6), 2, (2, 3))]\n",
    "    the new heap is: [((1, 2), 0.01, (2, 0)), ((7, 2), 0.2, (2, 3)), ((2, 3), 0.9, (1, 0)), ((3, 2), 1, (2, 2)), ((4, 6), 2, (2, 3))]\n"
   ]
  },
  {
   "cell_type": "markdown",
   "metadata": {
    "collapsed": true,
    "nbgrader": {
     "grade": false,
     "grade_id": "cell-8a4f19ebd5016319",
     "locked": true,
     "schema_version": 1,
     "solution": false
    }
   },
   "source": [
    "## Exercise B (1pt)\n",
    "\n",
    "## Dijkstra\n",
    "\n",
    "Now that the queuing structure is defined we will start learning how to optimally traverse the graph. To do this we are going to define the Dijkstra function which uses the Dijkstra algorithm to search the graph and find the optimal distance and an optimal \"parent\" for each vertex. \n",
    "\n",
    "This function receives a graph represented by a dictionary (in the same way we used at the first and second labs) and a starting point.\n",
    "\n",
    "It will use both of the heap functions defined above to either retrieve the triplet with the smallest weight or to add a triplet to the heap. It will return the explored vertices in the order of visits (as we have done in Lab 2 and Lab 3), the parent of each vertex, and the distance from the starting point to each vertex."
   ]
  },
  {
   "cell_type": "code",
   "execution_count": 7,
   "metadata": {
    "collapsed": true,
    "nbgrader": {
     "grade": false,
     "grade_id": "exercice_B",
     "locked": false,
     "points": "1",
     "schema_version": 1,
     "solution": true
    }
   },
   "outputs": [],
   "source": [
    "def is_explored(explored_vertices,vertex):\n",
    "    return vertex in explored_vertices\n",
    "\n",
    "def add_to_explored_vertices(explored_vertices,vertex):\n",
    "    explored_vertices.append(vertex)\n",
    "    \n",
    "def Dijkstra(maze_graph,initial_vertex):\n",
    "    # Variable storing the exploredled vertices vertexes not to go there again\n",
    "    explored_vertices = list()\n",
    "    \n",
    "    # Stack of vertexes\n",
    "    heap = list()\n",
    "    \n",
    "    #Parent dictionary\n",
    "    parent_dict = dict()\n",
    "    # Distances dictionary\n",
    "    distances = dict()\n",
    "    \n",
    "    # First call\n",
    "    initial_vertex = (initial_vertex, 0, initial_vertex)#vertex to visit, distance from origin, parent\n",
    "    heap_add_or_replace(heap,initial_vertex)\n",
    "    while len(heap) > 0:\n",
    "        # get the triplet (vertex, distance, parent) with the smallest distance from heap list using heap_pop function.\n",
    "        vertex, distance, parent = heap.pop(0)\n",
    "        \n",
    "        # if the vertex of the triplet is not explored:\n",
    "        if vertex not in explored_vertices:\n",
    "            \n",
    "        #     map the vertex to its corresponding parent\n",
    "            parent_dict.update( {vertex : parent} )\n",
    "        #     add vertex to explored vertices.\n",
    "            add_to_explored_vertices(explored_vertices,vertex)\n",
    "        #     set distance from inital_vertex to vertex\n",
    "            distances[vertex] = distance\n",
    "            \n",
    "        #     for each unexplored neighbor i of the vertex, connected through an edge of weight wi\n",
    "            for neighbor in maze_graph[vertex]: \n",
    "                if neighbor not in explored_vertices:\n",
    "                    wi = (maze_graph[vertex])[neighbor]\n",
    "                    heap_add_or_replace(heap,(neighbor,wi + distance,vertex))\n",
    "        #         add (i, distance + wi, vertex) to the heap\n",
    "        \n",
    "        #\n",
    "        # YOUR CODE HERE\n",
    "        #\n",
    "    return explored_vertices, parent_dict, distances"
   ]
  },
  {
   "cell_type": "code",
   "execution_count": 8,
   "metadata": {
    "deletable": false,
    "nbgrader": {
     "grade": true,
     "grade_id": "exercice_B",
     "locked": true,
     "points": "1",
     "schema_version": 1,
     "solution": false
    }
   },
   "outputs": [
    {
     "name": "stdout",
     "output_type": "stream",
     "text": [
      "explored vertices order: [(0, 0), (1, 0), (0, 1), (1, 1), (0, 2), (1, 2)]\n",
      "Vertex (0, 0) is reached from vertex (0, 0), and its distance from initial vertex is 0\n",
      "Vertex (1, 0) is reached from vertex (0, 0), and its distance from initial vertex is 3\n",
      "Vertex (0, 2) is reached from vertex (0, 1), and its distance from initial vertex is 6\n",
      "Vertex (0, 1) is reached from vertex (1, 0), and its distance from initial vertex is 4\n",
      "Vertex (1, 1) is reached from vertex (1, 0), and its distance from initial vertex is 5\n",
      "Vertex (1, 2) is reached from vertex (1, 1), and its distance from initial vertex is 7\n"
     ]
    }
   ],
   "source": [
    "#\n",
    "# AUTOGRADER TEST - DO NOT REMOVE\n",
    "#\n",
    "from operator import itemgetter\n",
    "\n",
    "maze_graph = {\n",
    "    (0,0): {(1,0):3,(0,1):5}, \n",
    "    (1,0): {(0,1):1,(1,1):2},\n",
    "    (0,1): {(1,1):1,(0,2):2},\n",
    "    (1,1): {(1,2):2},\n",
    "    (0,2): {(1,2):4},\n",
    "    (1,2): {(0,1):3},\n",
    "    (2,2): {(1,2):2,(3,2):1},\n",
    "    (2,1): {(1,1):3,(2,2):7},\n",
    "    (3,2): {(2,1):2}\n",
    "}\n",
    "\n",
    "explored_vertices,parent_dict,distances=Dijkstra(maze_graph,(0,0))\n",
    "print(\"explored vertices order: {}\".format(explored_vertices))\n",
    "for vertex,parent in sorted(parent_dict.items(),key=itemgetter(1,0)):\n",
    "    print(\"Vertex {} is reached from vertex {}, and its distance from initial vertex is {}\".format(vertex,parent,distances[vertex]))\n"
   ]
  },
  {
   "cell_type": "markdown",
   "metadata": {
    "collapsed": true,
    "nbgrader": {
     "grade": false,
     "grade_id": "cell-b959935510ec3d4c",
     "locked": true,
     "schema_version": 1,
     "solution": false
    }
   },
   "source": [
    "After executing the last two cells above you should have the following result:\n",
    "    \n",
    "    explored vertices order: [(0, 0), (1, 0), (0, 1), (1, 1), (0, 2), (1, 2)]\n",
    "    Vertex (0, 0) is reached from vertex (0, 0), and its distance from initial vertex is 0\n",
    "    Vertex (1, 0) is reached from vertex (0, 0), and its distance from initial vertex is 3\n",
    "    Vertex (0, 2) is reached from vertex (0, 1), and its distance from initial vertex is 6\n",
    "    Vertex (0, 1) is reached from vertex (1, 0), and its distance from initial vertex is 4\n",
    "    Vertex (1, 1) is reached from vertex (1, 0), and its distance from initial vertex is 5\n",
    "    Vertex (1, 2) is reached from vertex (1, 1), and its distance from initial vertex is 7"
   ]
  },
  {
   "cell_type": "markdown",
   "metadata": {
    "collapsed": true,
    "nbgrader": {
     "grade": false,
     "grade_id": "cell-a8688e5da1c1c1fb",
     "locked": true,
     "schema_version": 1,
     "solution": false
    }
   },
   "source": [
    "## Exercise C (1pt)\n",
    "\n",
    "Now that we have the shortest distances from the initial vertex to all the other ones, we can proceed with a function to obtain corresponding walks. This will be defined as the A_to_B function.\n",
    "\n",
    "In this function you will use the Dijkstra function and the functions create_walk_from_parents and walk_to_route which were defined in the Lab 2 and are provided in the utils package. You have to complete the function A_to_B which receives an initial vertex A and a target vertex B and returns the list of movements that have to be performed to follow a shortest path from A to B. \n",
    "\n",
    "This function is similar to the one introduced in Lab 2 the only difference is that it uses the Dijkstra algorithm instead of BFS search. \n",
    "\n",
    "Tip: create_walk_from_parents and walk_to_route functions are defined in utils.py file. They can be called using the following format:\n",
    "\n",
    "utils.create_walk_from_parents(parent_dict,initial_vertex,target_vertex)\n",
    "\n",
    "utils.walk_to_route(walk,vertex_source)"
   ]
  },
  {
   "cell_type": "code",
   "execution_count": 9,
   "metadata": {
    "collapsed": true
   },
   "outputs": [],
   "source": [
    "from utils import create_walk_from_parents, walk_to_route"
   ]
  },
  {
   "cell_type": "code",
   "execution_count": 10,
   "metadata": {
    "collapsed": true,
    "nbgrader": {
     "grade": false,
     "grade_id": "exercice_C",
     "locked": false,
     "points": "1",
     "schema_version": 1,
     "solution": true
    }
   },
   "outputs": [],
   "source": [
    "import utils\n",
    "def A_to_B(maze_graph,initial_vertex,target_vertex):\n",
    "    explored_vertices, parent_dict, distances = Dijkstra(maze_graph,initial_vertex)\n",
    "    walk = create_walk_from_parents(parent_dict, initial_vertex, target_vertex)  \n",
    "    return walk_to_route(walk,initial_vertex)\n"
   ]
  },
  {
   "cell_type": "code",
   "execution_count": 11,
   "metadata": {
    "deletable": false,
    "nbgrader": {
     "grade": true,
     "grade_id": "exercice_C",
     "locked": true,
     "points": "1",
     "schema_version": 1,
     "solution": false
    }
   },
   "outputs": [
    {
     "name": "stdout",
     "output_type": "stream",
     "text": [
      "The route from (0, 0) to (2, 1) is ['R', 'U', 'R']\n",
      "The route from (2, 1) to (0, 0) is ['L', 'L', 'D']\n"
     ]
    }
   ],
   "source": [
    "test_graph = {\n",
    "        (0,0): {(0,1):4,(1,0):1},\n",
    "        (0,1): {(1,1):1,(0,0):1},\n",
    "        (1,0): {(1,1):1,(0,0):1},\n",
    "        (1,1): {(2,1):2,(0,1):1,(1,0):2},\n",
    "        (2,1): {(1,1):1}\n",
    "}\n",
    "#\n",
    "# AUTOGRADER TEST - DO NOT REMOVE\n",
    "#\n",
    "\n",
    "a = (0,0)\n",
    "b = (2,1)\n",
    "print(\"The route from {} to {} is {}\".format(a,b,A_to_B(test_graph,a,b)))\n",
    "print(\"The route from {} to {} is {}\".format(b,a,A_to_B(test_graph,b,a)))\n"
   ]
  },
  {
   "cell_type": "markdown",
   "metadata": {
    "collapsed": true,
    "nbgrader": {
     "grade": false,
     "grade_id": "cell-deec80ad93273cb5",
     "locked": true,
     "schema_version": 1,
     "solution": false
    }
   },
   "source": [
    "When all functions are correctly added, the obtained result of the last cell should be:\n",
    "\n",
    "    The route from (0, 0) to (2, 1) is ['R', 'U', 'R']\n",
    "    \n",
    "    The route from (2, 1) to (0, 0) is ['L', 'L', 'D']"
   ]
  },
  {
   "cell_type": "markdown",
   "metadata": {
    "collapsed": true,
    "nbgrader": {
     "grade": false,
     "grade_id": "cell-528386e62172364f",
     "locked": true,
     "schema_version": 1,
     "solution": false
    }
   },
   "source": [
    "For the next exercise we are going to use the pyrat game. The first thing we should do is generate a game:"
   ]
  },
  {
   "cell_type": "code",
   "execution_count": 12,
   "metadata": {
    "nbgrader": {
     "grade": true,
     "locked": true,
     "schema_version": 1,
     "solution": false
    }
   },
   "outputs": [
    {
     "data": {
      "text/html": [
       "\n",
       "        <style type=text/css>\n",
       "            #gjs-canvas{\n",
       "                border: 1px solid #ccc;\n",
       "                width: 800px;\n",
       "                height: 300px;      \n",
       "                display: block;\n",
       "                position: fixed;\n",
       "                bottom: 0;\n",
       "                left: 0;\n",
       "                right: 0;\n",
       "                margin-left: auto;\n",
       "                margin-right: auto;\n",
       "            }\n",
       "            \n",
       "            \n",
       "            \n",
       "        </style>\n",
       "        <script src=\"gamejs-2.0.1.js\"></script>\n",
       "        <script>\n",
       "        header = parseInt(document.getElementById(\"header\").clientHeight);\n",
       "        height = document.body.clientHeight;\n",
       "        new_height = height-300-header;\n",
       "        window.onresize = function(event) {\n",
       "                height = document.body.clientHeight;\n",
       "                header = parseInt(document.getElementById(\"header\").clientHeight);\n",
       "            if(do_resize)\n",
       "            {\n",
       "                new_height = height-300-header;\n",
       "            }\n",
       "            else\n",
       "            {\n",
       "                new_height = height-header;\n",
       "            }\n",
       "                document.getElementById(\"site\").style.height = String(new_height)+\"px\"\n",
       "        };\n",
       "            console.log(height,header,300,new_height)\n",
       "            document.getElementById(\"site\").style.height = String(new_height)+\"px\"\n",
       "\n",
       "                var resize = false;\n",
       "                var myEle = document.getElementById(\"gjs-canvas\");\n",
       "                var do_resize = true;\n",
       "                if(!myEle){\n",
       "                var squares_height = 15;\n",
       "                var squares_width = 21;\n",
       "\n",
       "                var score1 = 0;\n",
       "                var moves1 = 0;\n",
       "                var miss1 = 0;\n",
       "                var stuck1 = 0;\n",
       "                var p1name = \"RatName\"\n",
       "\n",
       "                var score2 = 0;\n",
       "                var moves2 = 0;\n",
       "                var miss2 = 0;\n",
       "                var stuck2 = 0;\n",
       "                var p2name = \"PythonName\"\n",
       "\n",
       "                var labyrinth = \"1 3 3 1 1 1 3 3 1 3 1 1 1 9 3###1 0 2 4 1 3 9 0 1 0 2 1 2 2 2###1 0 0 0 2 1 2 1 0 3 2 1 3 2 2###2 1 0 3 0 1 0 3 3 0 1 2 6 2 2###2 0 1 3 3 1 2 3 0 1 2 3 3 2 2###1 2 3 1 0 2 0 2 1 1 3 0 0 0 3###0 1 2 0 1 3 0 1 3 2 0 0 3 0 3###6 3 1 3 0 3 2 2 3 2 8 1 2 2 2###0 0 0 3 0 9 3 0 4 3 1 3 4 1 3###1 2 2 2 2 9 1 1 2 1 3 0 3 0 3###0 1 3 3 2 0 1 3 0 0 3 2 0 2 6###0 0 1 0 3 2 2 1 3 3 0 3 2 1 3###2 1 1 2 2 2 2 0 1 0 3 3 2 0 3###0 1 3 2 3 3 8 0 3 2 0 2 0 2 2###2 2 3 1 2 0 0 1 3 3 2 2 6 2 2###3 0 0 0 1 3 6 2 1 0 2 9 2 0 3###0 0 1 3 2 0 3 1 2 2 2 1 9 3 2###0 3 2 1 3 2 2 2 2 0 3 2 2 0 3###1 0 1 0 3 3 0 3 3 3 0 2 2 2 6###2 0 6 1 3 4 2 0 2 6 3 0 3 1 2###1 9 0 2 8 3 0 3 8 0 8 3 1 2 2###\";\n",
       "                var pieces_of_cheese = ['8, 8; 9, 4'];\n",
       "                var player1_location = [[0,0]];\n",
       "                var player2_location = [[-1,-1]];\n",
       "                var turn = 0;\n",
       "                var max_turn = 0;\n",
       "\n",
       "                    require.setModuleRoot('./');\n",
       "                    require.run('display');\n",
       "                }\n",
       "\n",
       "\n",
       "\n",
       "        </script>\n",
       "        \n",
       "        "
      ],
      "text/plain": [
       "<IPython.core.display.HTML object>"
      ]
     },
     "metadata": {},
     "output_type": "display_data"
    },
    {
     "data": {
      "text/html": [
       "\n",
       "                <script>\n",
       "                squares_height = 10;\n",
       "                squares_width = 10;\n",
       "\n",
       "                score1 = 0;\n",
       "                moves1 = 0;\n",
       "                miss1 = 0;\n",
       "                stuck1 = 0;\n",
       "                p1name = \"RatName\"\n",
       "\n",
       "                score2 = 0;\n",
       "                moves2 = 0;\n",
       "                miss2 = 0;\n",
       "                stuck2 = 0;\n",
       "                p2name = \"PythonName\"\n",
       "\n",
       "                labyrinth = \"1 1 1 1 1 1 1 3 1 3###1 3 1 12 1 1 1 1 1 2###0 3 0 2 3 2 2 1 2 2###1 4 3 0 0 1 1 3 3 2###1 8 0 0 3 0 3 0 2 3###0 1 1 3 2 2 3 0 1 2###2 2 2 1 0 1 2 2 3 2###2 2 1 1 2 2 0 1 2 2###2 2 3 1 1 0 3 2 6 2###2 0 6 1 2 2 2 0 3 6###\";\n",
       "                pieces_of_cheese = ['2, 0'];\n",
       "                player1_location = [[-1, -1]];\n",
       "                player2_location = [[-1, -1]];\n",
       "                turn = 0;\n",
       "                max_turn = 1;\n",
       "                resize = true;\n",
       "                </script>\n",
       "\n",
       "            "
      ],
      "text/plain": [
       "<IPython.core.display.HTML object>"
      ]
     },
     "metadata": {},
     "output_type": "display_data"
    }
   ],
   "source": [
    "import pyrat\n",
    "\n",
    "pyrat.pieces = 1\n",
    "game = pyrat.Game()\n",
    "pyrat.start_display()\n",
    "pyrat.display_game(game)"
   ]
  },
  {
   "cell_type": "markdown",
   "metadata": {
    "nbgrader": {
     "grade": false,
     "grade_id": "cell-921c4b5bdf80ef56",
     "locked": true,
     "schema_version": 1,
     "solution": false
    }
   },
   "source": [
    "We will now define the starting point of the rat and the end_point which will be used as the location of the cheese. Each point is defined as (x,y) where $0\\leq x \\leq 9$ and $0\\leq y \\leq 9$\n"
   ]
  },
  {
   "cell_type": "code",
   "execution_count": 13,
   "metadata": {
    "collapsed": true
   },
   "outputs": [],
   "source": [
    "starting_point = (0,0)\n",
    "end_point = (9,9)"
   ]
  },
  {
   "cell_type": "markdown",
   "metadata": {
    "nbgrader": {
     "grade": false,
     "grade_id": "cell-99c39fc21940aebd",
     "locked": true,
     "schema_version": 1,
     "solution": false
    }
   },
   "source": [
    "## Exercise D (1pt)\n",
    "\n",
    "With the pyrat game created we can now use the A_to_B function to play it. To do this you have to define a turn function. IMPORTANT: note that this turn function should output a single move (and not a list of moves).\n",
    "\n",
    "It will use the A_to_B function from exercise C. The turn function is defined below. You will only need three of the arguments:\n",
    "\n",
    "- maze_graph which is the graph representing the maze of the game.\n",
    "- playerLocation which is the location of your character\n",
    "- the first element of pieceOfCheese: piecesOfCheese is a list of cheeses that in our case will always contain only one element and therefore this element will represent target_vertex on your A_to_B function."
   ]
  },
  {
   "cell_type": "code",
   "execution_count": 34,
   "metadata": {
    "collapsed": true,
    "nbgrader": {
     "grade": false,
     "grade_id": "exercice_D",
     "locked": false,
     "points": "1",
     "schema_version": 1,
     "solution": true
    }
   },
   "outputs": [],
   "source": [
    "def turn(maze_graph, mazeWidth, mazeHeight, playerLocation, opponentLocation, playerScore, opponentScore, piecesOfCheese, timeAllowed):  \n",
    "    route = A_to_B(maze_graph,playerLocation,piecesOfCheese[0])\n",
    "    return route[0]\n",
    "    "
   ]
  },
  {
   "cell_type": "markdown",
   "metadata": {
    "nbgrader": {
     "grade": false,
     "grade_id": "cell-6fdcf8b4f95b2001",
     "locked": true,
     "schema_version": 1,
     "solution": false
    }
   },
   "source": [
    "Now we will run a pyrat game using your start and end positions and you should see the rat moving in the direction of the cheese and finishing on the cheese. If you don't see this you should probably recheck your code. WARNING: it takes time to cross mud in the pyrat game, so do not worry if the rat spends a few seconds when crossing mud."
   ]
  },
  {
   "cell_type": "code",
   "execution_count": 35,
   "metadata": {
    "deletable": false,
    "nbgrader": {
     "grade": true,
     "grade_id": "exercice_D",
     "locked": true,
     "points": "1",
     "schema_version": 1,
     "solution": false
    }
   },
   "outputs": [
    {
     "data": {
      "text/html": [
       "\n",
       "                <script>\n",
       "                squares_height = 10;\n",
       "                squares_width = 10;\n",
       "\n",
       "                score1 = 1;\n",
       "                moves1 = 18;\n",
       "                miss1 = 0;\n",
       "                stuck1 = 0;\n",
       "                p1name = \"RatName\"\n",
       "\n",
       "                score2 = 0;\n",
       "                moves2 = 0;\n",
       "                miss2 = 0;\n",
       "                stuck2 = 0;\n",
       "                p2name = \"PythonName\"\n",
       "\n",
       "                labyrinth = \"1 1 1 1 1 1 1 3 1 3###1 3 1 12 1 1 1 1 1 2###0 3 0 2 3 2 2 1 2 2###1 4 3 0 0 1 1 3 3 2###1 8 0 0 3 0 3 0 2 3###0 1 1 3 2 2 3 0 1 2###2 2 2 1 0 1 2 2 3 2###2 2 1 1 2 2 0 1 2 2###2 2 3 1 1 0 3 2 6 2###2 0 6 1 2 2 2 0 3 6###\";\n",
       "                pieces_of_cheese = ['9, 9', '9, 9', '9, 9', '9, 9', '9, 9', '9, 9', '9, 9', '9, 9', '9, 9', '9, 9', '9, 9', '9, 9', '9, 9', '9, 9', '9, 9', '9, 9', '9, 9', '9, 9', '9, 9', '9, 9', '9, 9', '9, 9', '9, 9', '9, 9', '9, 9', '9, 9', '9, 9', '9, 9', '9, 9'];\n",
       "                player1_location = [[0, 0], [0, 1], [0, 2], [0, 3], [0, 3], [1, 3], [2, 3], [3, 3], [3, 4], [3, 5], [3, 6], [3, 7], [4, 7], [5, 7], [5, 8], [5, 9], [6, 9], [7, 9], [8, 9], [8, 9], [8, 9], [8, 9], [8, 9], [8, 9], [8, 9], [8, 9], [8, 9], [8, 9], [9, 9]];\n",
       "                player2_location = [[-1, -1], [-1, -1], [-1, -1], [-1, -1], [-1, -1], [-1, -1], [-1, -1], [-1, -1], [-1, -1], [-1, -1], [-1, -1], [-1, -1], [-1, -1], [-1, -1], [-1, -1], [-1, -1], [-1, -1], [-1, -1], [-1, -1], [-1, -1], [-1, -1], [-1, -1], [-1, -1], [-1, -1], [-1, -1], [-1, -1], [-1, -1], [-1, -1], [-1, -1]];\n",
       "                turn = 0;\n",
       "                max_turn = 29;\n",
       "                resize = true;\n",
       "                </script>\n",
       "\n",
       "            "
      ],
      "text/plain": [
       "<IPython.core.display.HTML object>"
      ]
     },
     "metadata": {},
     "output_type": "display_data"
    },
    {
     "name": "stdout",
     "output_type": "stream",
     "text": [
      "the number of turns needed to eat the cheese is:  29\n"
     ]
    }
   ],
   "source": [
    "#\n",
    "# AUTOGRADER TEST - DO NOT REMOVE\n",
    "#\n",
    "\n",
    "game = pyrat.Game(turn_1=turn)\n",
    "game = utils.reset_game(pyrat,game,starting_point,end_point)\n",
    "pyrat.display_game(game)\n",
    "\n",
    "print(\"the number of turns needed to eat the cheese is: \",game.turn_count)"
   ]
  },
  {
   "cell_type": "markdown",
   "metadata": {
    "nbgrader": {
     "grade": false,
     "grade_id": "cell-3d9cb7808d34f423",
     "locked": true,
     "schema_version": 1,
     "solution": false
    }
   },
   "source": [
    "After coding the function turn and executing the test above, we should get:\n",
    "\n",
    "the number of turns needed to eat the cheese is: 29"
   ]
  },
  {
   "cell_type": "markdown",
   "metadata": {
    "nbgrader": {
     "grade": false,
     "grade_id": "cell-7bf176ec21db6020",
     "locked": true,
     "schema_version": 1,
     "solution": false
    }
   },
   "source": [
    "## Extra\n",
    "\n",
    "Finally in the course you have learned the tools needed to analyse the complexity of the Dijkstra algorithm. We suggest that before reading the rest of this cell that you try to derive the complexity of the Dijkstra algorithm by yourself.\n",
    "\n",
    "In the cell below you will see a graph showing how the execution time of the Dijkstra function varies given graphs of different sizes. Execute the cell bellow to get the figure which represents time as function of maze size."
   ]
  },
  {
   "cell_type": "code",
   "execution_count": null,
   "metadata": {
    "collapsed": true,
    "nbgrader": {
     "grade": false,
     "grade_id": "cell-8ef872bbb4571a1b",
     "locked": true,
     "schema_version": 1,
     "solution": false
    }
   },
   "outputs": [],
   "source": [
    "from imports import maze\n",
    "import time\n",
    "import math\n",
    "%matplotlib inline\n",
    "import matplotlib.pyplot as plt\n",
    "maze_size=[]\n",
    "time_to_execute=[]\n",
    "maze_shape=[(1,2),(2,3),(3,3),(5,3),(6,7),(8,9),(11,10),(12,15),(16,18),(19,22),(21,23)]\n",
    "for i in range(len(maze_shape)):\n",
    "    length,width=maze_shape[i]\n",
    "    maze_graph=maze.generate_maze(length,width,0,True,False,0.5,5,\"\",0)\n",
    "    start=time.time()\n",
    "    Dijkstra(maze_graph[3],(0,0))\n",
    "    time_to_execute.append(time.time()-start)\n",
    "    maze_size.append(length*width)\n",
    "\n",
    "plt.plot(maze_size,time_to_execute,color=\"blue\")"
   ]
  },
  {
   "cell_type": "code",
   "execution_count": null,
   "metadata": {
    "collapsed": true
   },
   "outputs": [],
   "source": []
  }
 ],
 "metadata": {
  "kernelspec": {
   "display_name": "Python 3 [3.6]",
   "language": "python",
   "name": "python3"
  },
  "language_info": {
   "codemirror_mode": {
    "name": "ipython",
    "version": 3
   },
   "file_extension": ".py",
   "mimetype": "text/x-python",
   "name": "python",
   "nbconvert_exporter": "python",
   "pygments_lexer": "ipython3",
   "version": "3.6.4"
  }
 },
 "nbformat": 4,
 "nbformat_minor": 2
}
