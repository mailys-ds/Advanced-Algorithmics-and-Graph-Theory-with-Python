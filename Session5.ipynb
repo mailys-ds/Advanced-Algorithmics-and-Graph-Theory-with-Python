{
 "cells": [
  {
   "cell_type": "markdown",
   "metadata": {
    "nbgrader": {
     "grade": false,
     "grade_id": "cell-70e3b412224dc0c7",
     "locked": true,
     "schema_version": 1,
     "solution": false
    }
   },
   "source": [
    "Welcome to the fifth Lab session of the \"Advanced algorithmics and graph theory with Python\" MOOC. In this Lab you will learn how to implement a greedy algorithm to approximately solve the Traveling Salesman Problem.\n",
    "\n",
    "The main objective of this Lab is to:\n",
    "* Write and analyse a greedy algorithm to approximately solve an NP-complete problem.\n",
    "* Compare approximate solutions to a problem in terms of accuracy and performance.\n",
    "\n",
    "Based on what we learned in the previous Labs, we will define advanced functions and use them to define the greedy algorithm.\n",
    "\n",
    "Recall that in the context of the PyRat game, we aim at grabbing all pieces of cheese in a maze with a minimum number of moves."
   ]
  },
  {
   "cell_type": "markdown",
   "metadata": {
    "nbgrader": {
     "grade": false,
     "grade_id": "cell-0d079c1533d2b353",
     "locked": true,
     "schema_version": 1,
     "solution": false
    }
   },
   "source": [
    "## Exercice A (1pt)\n",
    "\n",
    "The first thing we have to define for a greedy algorithm is the heuristic that is going to be used. In our case we are going to use the \"always go to the closest cheese\" heuristic. \n",
    "\n",
    "To do this you will define the choose_target function. In this function you will receive the distances of the pieces of cheese to the player location as calculated by the Dikjstra algorithm. The choose_target function takes as input these distances, and the list of the pieces of cheese, and returns the location of the one closest to the player location.\n",
    "\n",
    "PS: Note that in some cases there might be multiple pieces of cheese at minimum distance from the player, in which case we choose the one that appears first in the list of pieces of cheese."
   ]
  },
  {
   "cell_type": "code",
   "execution_count": 3,
   "metadata": {
    "collapsed": true,
    "nbgrader": {
     "grade": false,
     "grade_id": "Exercice A ",
     "locked": false,
     "points": "1",
     "schema_version": 1,
     "solution": true
    }
   },
   "outputs": [],
   "source": [
    "def choose_target(distances,pieces_of_cheese):\n",
    "    distance = float('inf')\n",
    "    next_target = None\n",
    "    \n",
    "    for vertex in pieces_of_cheese:\n",
    "        \n",
    "        if distances[vertex] < distance:\n",
    "            distance = distances[vertex]\n",
    "            next_target = vertex\n",
    "            \n",
    "    return next_target"
   ]
  },
  {
   "cell_type": "code",
   "execution_count": 4,
   "metadata": {
    "deletable": false,
    "nbgrader": {
     "grade": true,
     "grade_id": "Exercice A ",
     "locked": true,
     "points": "1",
     "schema_version": 1,
     "solution": false
    }
   },
   "outputs": [
    {
     "name": "stdout",
     "output_type": "stream",
     "text": [
      "List of pieces of cheese: [(2, 1), (2, 0), (0, 1)]\n",
      "Distance from player location to cheese at (0, 1) is: 3 \n",
      "Distance from player location to cheese at (2, 0) is: 2 \n",
      "Distance from player location to cheese at (2, 1) is: 3 \n",
      "Closest target is: (2, 0)\n",
      "List of pieces of cheese: [(2, 1), (2, 0), (0, 1)]\n",
      "Distance from player location to cheese at (0, 1) is: 3 \n",
      "Distance from player location to cheese at (2, 0) is: 3 \n",
      "Distance from player location to cheese at (2, 1) is: 4 \n",
      "Closest target is: (2, 0)\n"
     ]
    }
   ],
   "source": [
    "#\n",
    "# AUTOGRADER TEST - DO NOT REMOVE\n",
    "#\n",
    "\n",
    "pieces_of_cheese = [(2, 1), (2, 0), (0, 1)]\n",
    "distances = {\n",
    "    (0, 0): 0, (1, 0): 1, (2, 0): 2, (1, 1): 2, (2, 1): 3, (0, 1): 3, (1, 2): 3, (2, 2): 5, (0, 2): 5\n",
    "}\n",
    "\n",
    "print(\"List of pieces of cheese: {}\".format(pieces_of_cheese))\n",
    "for key,value in sorted(distances.items()):\n",
    "    if key in pieces_of_cheese:\n",
    "        print(\"Distance from player location to cheese at {} is: {} \".format(key,value))\n",
    "\n",
    "next_target = choose_target(distances,pieces_of_cheese)\n",
    "print(\"Closest target is: {}\".format(next_target))\n",
    "\n",
    "pieces_of_cheese = [(2, 1), (2, 0), (0, 1)]\n",
    "distances = {\n",
    "    (0, 0): 0, (1, 0): 1, (2, 0): 3, (1, 1): 2, (2, 1): 4, (0, 1): 3, (1, 2): 3, (2, 2): 5, (0, 2): 5\n",
    "}\n",
    "\n",
    "print(\"List of pieces of cheese: {}\".format(pieces_of_cheese))\n",
    "for key,value in sorted(distances.items()):\n",
    "    if key in pieces_of_cheese:\n",
    "        print(\"Distance from player location to cheese at {} is: {} \".format(key,value))\n",
    "\n",
    "next_target = choose_target(distances,pieces_of_cheese)\n",
    "print(\"Closest target is: {}\".format(next_target))\n"
   ]
  },
  {
   "cell_type": "markdown",
   "metadata": {
    "nbgrader": {
     "grade": false,
     "grade_id": "cell-4b087d70a539a1eb",
     "locked": true,
     "schema_version": 1,
     "solution": false
    }
   },
   "source": [
    "After coding choose_target function and executing test cell above, the obtained result should be:\n",
    "\n",
    "```\n",
    "List of pieces of cheese: [(2, 1), (2, 0), (0, 1)]\n",
    "Distance from player location to cheese at (0, 1) is: 3 \n",
    "Distance from player location to cheese at (2, 0) is: 2 \n",
    "Distance from player location to cheese at (2, 1) is: 3 \n",
    "Closest target is: (2, 0)\n",
    "List of pieces of cheese: [(2, 1), (2, 0), (0, 1)]\n",
    "Distance from player location to cheese at (0, 1) is: 3 \n",
    "Distance from player location to cheese at (2, 0) is: 3 \n",
    "Distance from player location to cheese at (2, 1) is: 4 \n",
    "Closest target is: (2, 0)\n",
    "```\n",
    "    \n",
    "We see that, in the second case, two pieces of cheese are at minimum distance from the player location. Therefore we return the first in the list."
   ]
  },
  {
   "cell_type": "markdown",
   "metadata": {
    "nbgrader": {
     "grade": false,
     "grade_id": "cell-8c8624bfbee67b6c",
     "locked": true,
     "schema_version": 1,
     "solution": false
    }
   },
   "source": [
    "## Exercice B (1pt)\n",
    "\n",
    "Now that you have defined the function that will provide the heuristic, we can use it to play PyRat games. To do this, you will need to define two functions:\n",
    "\n",
    "The first one is the movements_greedy_algorithm function. It takes as input the maze graph, the list of pieces of cheese and the player location. It returns the location of the nearest piece of cheese from the player location and a list of movements to reach it.  This function uses Dijkstra algorithm to compute distances of vertices from player location, finds the nearest piece of cheese from the player location using choose_target function, and finally uses A_to_B function to return a list of movements that should be performed to move optimally from the player position to the nearest piece of cheese.\n",
    "\n",
    "The second one is the turn function. It will call the movements_greedy_algorithm function to recover all the movements needed to explore all pieces of cheese and will return one movement (next movement) at a time.\n",
    "\n",
    "Tip: You don't need to define the A_to_B and Dijkstra functions that are defined in the utils module. Their signature is:\n",
    "\n",
    "utils.Dijkstra(maze_graph,initial_vertex). This function returns an array containing three elements:\n",
    "\n",
    "    1. an array containing the explored vertices in the order that they were explored\n",
    "    2. the parent dictionary containing the source vertex for each one of the vertices of the maze.\n",
    "    3. a dictionary where each key is a vertex on the maze graph and each value is the distance from the initial vertex to the given vertex\n",
    "\n",
    "\n",
    "utils.A_to_B(maze_graph,initial_vertex,target_vertex,parent_dict). This function returns a list of movements that should be done to reach the nearest piece of cheese from player location. "
   ]
  },
  {
   "cell_type": "code",
   "execution_count": 11,
   "metadata": {},
   "outputs": [],
   "source": [
    "from utils import Dijkstra\n",
    "from utils import A_to_B\n",
    "\n",
    "??A_to_B\n"
   ]
  },
  {
   "cell_type": "code",
   "execution_count": 13,
   "metadata": {
    "collapsed": true,
    "nbgrader": {
     "grade": false,
     "grade_id": "exercice_B",
     "locked": false,
     "points": "1",
     "schema_version": 1,
     "solution": true
    }
   },
   "outputs": [],
   "source": [
    "import utils\n",
    "\n",
    "movements = list()\n",
    "\n",
    "def movements_greedy_algorithm(maze_graph,pieces_of_cheese,player_location):\n",
    "    labeled_vertices, parent_dict, distances = utils.Dijkstra(maze_graph, player_location)\n",
    "    next_target = choose_target(distances,pieces_of_cheese)\n",
    "    movements = utils.A_to_B(maze_graph,player_location,next_target,parent_dict)\n",
    "    return movements,next_target\n",
    "\n",
    "\n",
    "def turn(maze_graph, maze_width, maze_height, player_location, opponent_location, player_score, opponent_score, pieces_of_cheese, time_allowed):\n",
    "    global movements\n",
    "    movements,next_target = movements_greedy_algorithm(maze_graph,pieces_of_cheese,player_location)\n",
    "    return movements[0]\n",
    "\n"
   ]
  },
  {
   "cell_type": "code",
   "execution_count": 14,
   "metadata": {
    "deletable": false,
    "nbgrader": {
     "grade": true,
     "grade_id": "exercice_B",
     "locked": true,
     "points": "1",
     "schema_version": 1,
     "solution": false
    }
   },
   "outputs": [
    {
     "data": {
      "text/html": [
       "\n",
       "        <style type=text/css>\n",
       "            #gjs-canvas{\n",
       "                border: 1px solid #ccc;\n",
       "                width: 800px;\n",
       "                height: 300px;      \n",
       "                display: block;\n",
       "                position: fixed;\n",
       "                bottom: 0;\n",
       "                left: 0;\n",
       "                right: 0;\n",
       "                margin-left: auto;\n",
       "                margin-right: auto;\n",
       "            }\n",
       "            \n",
       "            \n",
       "            \n",
       "        </style>\n",
       "        <script src=\"gamejs-2.0.1.js\"></script>\n",
       "        <script>\n",
       "        header = parseInt(document.getElementById(\"header\").clientHeight);\n",
       "        height = document.body.clientHeight;\n",
       "        new_height = height-300-header;\n",
       "        window.onresize = function(event) {\n",
       "                height = document.body.clientHeight;\n",
       "                header = parseInt(document.getElementById(\"header\").clientHeight);\n",
       "            if(do_resize)\n",
       "            {\n",
       "                new_height = height-300-header;\n",
       "            }\n",
       "            else\n",
       "            {\n",
       "                new_height = height-header;\n",
       "            }\n",
       "                document.getElementById(\"site\").style.height = String(new_height)+\"px\"\n",
       "        };\n",
       "            console.log(height,header,300,new_height)\n",
       "            document.getElementById(\"site\").style.height = String(new_height)+\"px\"\n",
       "\n",
       "                var resize = false;\n",
       "                var myEle = document.getElementById(\"gjs-canvas\");\n",
       "                var do_resize = true;\n",
       "                if(!myEle){\n",
       "                var squares_height = 15;\n",
       "                var squares_width = 21;\n",
       "\n",
       "                var score1 = 0;\n",
       "                var moves1 = 0;\n",
       "                var miss1 = 0;\n",
       "                var stuck1 = 0;\n",
       "                var p1name = \"RatName\"\n",
       "\n",
       "                var score2 = 0;\n",
       "                var moves2 = 0;\n",
       "                var miss2 = 0;\n",
       "                var stuck2 = 0;\n",
       "                var p2name = \"PythonName\"\n",
       "\n",
       "                var labyrinth = \"1 3 3 1 1 1 3 3 1 3 1 1 1 9 3###1 0 2 4 1 3 9 0 1 0 2 1 2 2 2###1 0 0 0 2 1 2 1 0 3 2 1 3 2 2###2 1 0 3 0 1 0 3 3 0 1 2 6 2 2###2 0 1 3 3 1 2 3 0 1 2 3 3 2 2###1 2 3 1 0 2 0 2 1 1 3 0 0 0 3###0 1 2 0 1 3 0 1 3 2 0 0 3 0 3###6 3 1 3 0 3 2 2 3 2 8 1 2 2 2###0 0 0 3 0 9 3 0 4 3 1 3 4 1 3###1 2 2 2 2 9 1 1 2 1 3 0 3 0 3###0 1 3 3 2 0 1 3 0 0 3 2 0 2 6###0 0 1 0 3 2 2 1 3 3 0 3 2 1 3###2 1 1 2 2 2 2 0 1 0 3 3 2 0 3###0 1 3 2 3 3 8 0 3 2 0 2 0 2 2###2 2 3 1 2 0 0 1 3 3 2 2 6 2 2###3 0 0 0 1 3 6 2 1 0 2 9 2 0 3###0 0 1 3 2 0 3 1 2 2 2 1 9 3 2###0 3 2 1 3 2 2 2 2 0 3 2 2 0 3###1 0 1 0 3 3 0 3 3 3 0 2 2 2 6###2 0 6 1 3 4 2 0 2 6 3 0 3 1 2###1 9 0 2 8 3 0 3 8 0 8 3 1 2 2###\";\n",
       "                var pieces_of_cheese = ['8, 8; 9, 4'];\n",
       "                var player1_location = [[0,0]];\n",
       "                var player2_location = [[-1,-1]];\n",
       "                var turn = 0;\n",
       "                var max_turn = 0;\n",
       "\n",
       "                    require.setModuleRoot('./');\n",
       "                    require.run('display');\n",
       "                }\n",
       "\n",
       "\n",
       "\n",
       "        </script>\n",
       "        \n",
       "        "
      ],
      "text/plain": [
       "<IPython.core.display.HTML object>"
      ]
     },
     "metadata": {},
     "output_type": "display_data"
    },
    {
     "data": {
      "text/html": [
       "\n",
       "                <script>\n",
       "                squares_height = 10;\n",
       "                squares_width = 10;\n",
       "\n",
       "                score1 = 30;\n",
       "                moves1 = 133;\n",
       "                miss1 = 0;\n",
       "                stuck1 = 0;\n",
       "                p1name = \"RatName\"\n",
       "\n",
       "                score2 = 0;\n",
       "                moves2 = 0;\n",
       "                miss2 = 0;\n",
       "                stuck2 = 0;\n",
       "                p2name = \"PythonName\"\n",
       "\n",
       "                labyrinth = \"1 1 1 1 1 1 1 3 1 3###1 3 1 12 1 1 1 1 1 2###0 3 0 2 3 2 2 1 2 2###1 4 3 0 0 1 1 3 3 2###1 8 0 0 3 0 3 0 2 3###0 1 1 3 2 2 3 0 1 2###2 2 2 1 0 1 2 2 3 2###2 2 1 1 2 2 0 1 2 2###2 2 3 1 1 0 3 2 6 2###2 0 6 1 2 2 2 0 3 6###\";\n",
       "                pieces_of_cheese = ['2, 0; 1, 3; 6, 7; 4, 4; 1, 0; 7, 1; 9, 2; 2, 6; 2, 7; 2, 3; 2, 2; 4, 9; 4, 8; 1, 6; 7, 9; 9, 3; 4, 7; 2, 1; 3, 6; 2, 8; 8, 8; 0, 5; 5, 7; 9, 4; 3, 9; 3, 4; 5, 8; 7, 8; 9, 7; 3, 2', '2, 0; 1, 3; 6, 7; 4, 4; 1, 0; 7, 1; 9, 2; 2, 6; 2, 7; 2, 3; 2, 2; 4, 9; 4, 8; 1, 6; 7, 9; 9, 3; 4, 7; 2, 1; 3, 6; 2, 8; 8, 8; 0, 5; 5, 7; 9, 4; 3, 9; 3, 4; 5, 8; 7, 8; 9, 7; 3, 2', '2, 0; 1, 3; 6, 7; 4, 4; 1, 0; 7, 1; 9, 2; 2, 6; 2, 7; 2, 3; 2, 2; 4, 9; 4, 8; 1, 6; 7, 9; 9, 3; 4, 7; 2, 1; 3, 6; 2, 8; 8, 8; 0, 5; 5, 7; 9, 4; 3, 9; 3, 4; 5, 8; 7, 8; 9, 7; 3, 2', '2, 0; 1, 3; 6, 7; 4, 4; 1, 0; 7, 1; 9, 2; 2, 6; 2, 7; 2, 3; 2, 2; 4, 9; 4, 8; 1, 6; 7, 9; 9, 3; 4, 7; 2, 1; 3, 6; 2, 8; 8, 8; 0, 5; 5, 7; 9, 4; 3, 9; 3, 4; 5, 8; 7, 8; 9, 7; 3, 2', '2, 0; 1, 3; 6, 7; 4, 4; 1, 0; 7, 1; 9, 2; 2, 6; 2, 7; 2, 3; 2, 2; 4, 9; 4, 8; 1, 6; 7, 9; 9, 3; 4, 7; 2, 1; 3, 6; 2, 8; 8, 8; 0, 5; 5, 7; 9, 4; 3, 9; 3, 4; 5, 8; 7, 8; 9, 7; 3, 2', '2, 0; 1, 3; 6, 7; 4, 4; 1, 0; 7, 1; 9, 2; 2, 6; 2, 7; 2, 3; 2, 2; 4, 9; 4, 8; 1, 6; 7, 9; 9, 3; 4, 7; 2, 1; 3, 6; 2, 8; 8, 8; 0, 5; 5, 7; 9, 4; 3, 9; 3, 4; 5, 8; 7, 8; 9, 7; 3, 2', '2, 0; 6, 7; 4, 4; 1, 0; 7, 1; 9, 2; 2, 6; 2, 7; 2, 3; 2, 2; 4, 9; 4, 8; 1, 6; 7, 9; 9, 3; 4, 7; 2, 1; 3, 6; 2, 8; 8, 8; 0, 5; 5, 7; 9, 4; 3, 9; 3, 4; 5, 8; 7, 8; 9, 7; 3, 2', '2, 0; 6, 7; 4, 4; 1, 0; 7, 1; 9, 2; 2, 6; 2, 7; 2, 2; 4, 9; 4, 8; 1, 6; 7, 9; 9, 3; 4, 7; 2, 1; 3, 6; 2, 8; 8, 8; 0, 5; 5, 7; 9, 4; 3, 9; 3, 4; 5, 8; 7, 8; 9, 7; 3, 2', '2, 0; 6, 7; 4, 4; 1, 0; 7, 1; 9, 2; 2, 6; 2, 7; 4, 9; 4, 8; 1, 6; 7, 9; 9, 3; 4, 7; 2, 1; 3, 6; 2, 8; 8, 8; 0, 5; 5, 7; 9, 4; 3, 9; 3, 4; 5, 8; 7, 8; 9, 7; 3, 2', '2, 0; 6, 7; 4, 4; 1, 0; 7, 1; 9, 2; 2, 6; 2, 7; 4, 9; 4, 8; 1, 6; 7, 9; 9, 3; 4, 7; 2, 1; 3, 6; 2, 8; 8, 8; 0, 5; 5, 7; 9, 4; 3, 9; 3, 4; 5, 8; 7, 8; 9, 7; 3, 2', '2, 0; 6, 7; 4, 4; 1, 0; 7, 1; 9, 2; 2, 6; 2, 7; 4, 9; 4, 8; 1, 6; 7, 9; 9, 3; 4, 7; 2, 1; 3, 6; 2, 8; 8, 8; 0, 5; 5, 7; 9, 4; 3, 9; 3, 4; 5, 8; 7, 8; 9, 7; 3, 2', '2, 0; 6, 7; 4, 4; 1, 0; 7, 1; 9, 2; 2, 6; 2, 7; 4, 9; 4, 8; 1, 6; 7, 9; 9, 3; 4, 7; 2, 1; 3, 6; 2, 8; 8, 8; 0, 5; 5, 7; 9, 4; 3, 9; 5, 8; 7, 8; 9, 7; 3, 2', '2, 0; 6, 7; 4, 4; 1, 0; 7, 1; 9, 2; 2, 6; 2, 7; 4, 9; 4, 8; 1, 6; 7, 9; 9, 3; 4, 7; 2, 1; 3, 6; 2, 8; 8, 8; 0, 5; 5, 7; 9, 4; 3, 9; 5, 8; 7, 8; 9, 7; 3, 2', '2, 0; 6, 7; 4, 4; 1, 0; 7, 1; 9, 2; 2, 6; 2, 7; 4, 9; 4, 8; 1, 6; 7, 9; 9, 3; 4, 7; 2, 1; 2, 8; 8, 8; 0, 5; 5, 7; 9, 4; 3, 9; 5, 8; 7, 8; 9, 7; 3, 2', '2, 0; 6, 7; 4, 4; 1, 0; 7, 1; 9, 2; 2, 6; 2, 7; 4, 9; 4, 8; 1, 6; 7, 9; 9, 3; 4, 7; 2, 1; 2, 8; 8, 8; 0, 5; 5, 7; 9, 4; 3, 9; 5, 8; 7, 8; 9, 7; 3, 2', '2, 0; 6, 7; 4, 4; 1, 0; 7, 1; 9, 2; 2, 6; 2, 7; 4, 9; 4, 8; 1, 6; 7, 9; 9, 3; 2, 1; 2, 8; 8, 8; 0, 5; 5, 7; 9, 4; 3, 9; 5, 8; 7, 8; 9, 7; 3, 2', '2, 0; 6, 7; 4, 4; 1, 0; 7, 1; 9, 2; 2, 6; 2, 7; 4, 9; 1, 6; 7, 9; 9, 3; 2, 1; 2, 8; 8, 8; 0, 5; 5, 7; 9, 4; 3, 9; 5, 8; 7, 8; 9, 7; 3, 2', '2, 0; 6, 7; 4, 4; 1, 0; 7, 1; 9, 2; 2, 6; 2, 7; 4, 9; 1, 6; 7, 9; 9, 3; 2, 1; 2, 8; 8, 8; 0, 5; 5, 7; 9, 4; 3, 9; 5, 8; 7, 8; 9, 7; 3, 2', '2, 0; 6, 7; 4, 4; 1, 0; 7, 1; 9, 2; 2, 6; 2, 7; 4, 9; 1, 6; 7, 9; 9, 3; 2, 1; 2, 8; 8, 8; 0, 5; 9, 4; 3, 9; 5, 8; 7, 8; 9, 7; 3, 2', '2, 0; 4, 4; 1, 0; 7, 1; 9, 2; 2, 6; 2, 7; 4, 9; 1, 6; 7, 9; 9, 3; 2, 1; 2, 8; 8, 8; 0, 5; 9, 4; 3, 9; 5, 8; 7, 8; 9, 7; 3, 2', '2, 0; 4, 4; 1, 0; 7, 1; 9, 2; 2, 6; 2, 7; 4, 9; 1, 6; 7, 9; 9, 3; 2, 1; 2, 8; 8, 8; 0, 5; 9, 4; 3, 9; 5, 8; 7, 8; 9, 7; 3, 2', '2, 0; 4, 4; 1, 0; 7, 1; 9, 2; 2, 6; 2, 7; 4, 9; 1, 6; 7, 9; 9, 3; 2, 1; 2, 8; 8, 8; 0, 5; 9, 4; 3, 9; 7, 8; 9, 7; 3, 2', '2, 0; 4, 4; 1, 0; 7, 1; 9, 2; 2, 6; 2, 7; 4, 9; 1, 6; 7, 9; 9, 3; 2, 1; 2, 8; 8, 8; 0, 5; 9, 4; 3, 9; 7, 8; 9, 7; 3, 2', '2, 0; 4, 4; 1, 0; 7, 1; 9, 2; 2, 6; 2, 7; 1, 6; 7, 9; 9, 3; 2, 1; 2, 8; 8, 8; 0, 5; 9, 4; 3, 9; 7, 8; 9, 7; 3, 2', '2, 0; 4, 4; 1, 0; 7, 1; 9, 2; 2, 6; 2, 7; 1, 6; 7, 9; 9, 3; 2, 1; 2, 8; 8, 8; 0, 5; 9, 4; 3, 9; 7, 8; 9, 7; 3, 2', '2, 0; 4, 4; 1, 0; 7, 1; 9, 2; 2, 6; 2, 7; 1, 6; 7, 9; 9, 3; 2, 1; 2, 8; 8, 8; 0, 5; 9, 4; 3, 9; 7, 8; 9, 7; 3, 2', '2, 0; 4, 4; 1, 0; 7, 1; 9, 2; 2, 6; 2, 7; 1, 6; 9, 3; 2, 1; 2, 8; 8, 8; 0, 5; 9, 4; 3, 9; 7, 8; 9, 7; 3, 2', '2, 0; 4, 4; 1, 0; 7, 1; 9, 2; 2, 6; 2, 7; 1, 6; 9, 3; 2, 1; 2, 8; 8, 8; 0, 5; 9, 4; 3, 9; 7, 8; 9, 7; 3, 2', '2, 0; 4, 4; 1, 0; 7, 1; 9, 2; 2, 6; 2, 7; 1, 6; 9, 3; 2, 1; 2, 8; 8, 8; 0, 5; 9, 4; 3, 9; 7, 8; 9, 7; 3, 2', '2, 0; 4, 4; 1, 0; 7, 1; 9, 2; 2, 6; 2, 7; 1, 6; 9, 3; 2, 1; 2, 8; 8, 8; 0, 5; 9, 4; 3, 9; 7, 8; 9, 7; 3, 2', '2, 0; 4, 4; 1, 0; 7, 1; 9, 2; 2, 6; 2, 7; 1, 6; 9, 3; 2, 1; 2, 8; 8, 8; 0, 5; 9, 4; 3, 9; 7, 8; 9, 7; 3, 2', '2, 0; 4, 4; 1, 0; 7, 1; 9, 2; 2, 6; 2, 7; 1, 6; 9, 3; 2, 1; 2, 8; 8, 8; 0, 5; 9, 4; 3, 9; 7, 8; 9, 7; 3, 2', '2, 0; 4, 4; 1, 0; 7, 1; 9, 2; 2, 6; 2, 7; 1, 6; 9, 3; 2, 1; 2, 8; 8, 8; 0, 5; 9, 4; 3, 9; 7, 8; 9, 7; 3, 2', '2, 0; 4, 4; 1, 0; 7, 1; 9, 2; 2, 6; 2, 7; 1, 6; 9, 3; 2, 1; 2, 8; 8, 8; 0, 5; 9, 4; 3, 9; 7, 8; 9, 7; 3, 2', '2, 0; 4, 4; 1, 0; 7, 1; 9, 2; 2, 6; 2, 7; 1, 6; 9, 3; 2, 1; 2, 8; 8, 8; 0, 5; 9, 4; 3, 9; 7, 8; 9, 7; 3, 2', '2, 0; 4, 4; 1, 0; 7, 1; 9, 2; 2, 6; 2, 7; 1, 6; 9, 3; 2, 1; 2, 8; 8, 8; 0, 5; 9, 4; 3, 9; 7, 8; 9, 7; 3, 2', '2, 0; 4, 4; 1, 0; 7, 1; 9, 2; 2, 6; 2, 7; 1, 6; 9, 3; 2, 1; 2, 8; 8, 8; 0, 5; 9, 4; 3, 9; 7, 8; 9, 7; 3, 2', '2, 0; 4, 4; 1, 0; 7, 1; 9, 2; 2, 6; 2, 7; 1, 6; 9, 3; 2, 1; 2, 8; 8, 8; 0, 5; 9, 4; 3, 9; 7, 8; 9, 7; 3, 2', '2, 0; 1, 0; 7, 1; 9, 2; 2, 6; 2, 7; 1, 6; 9, 3; 2, 1; 2, 8; 8, 8; 0, 5; 9, 4; 3, 9; 7, 8; 9, 7; 3, 2', '2, 0; 1, 0; 7, 1; 9, 2; 2, 6; 2, 7; 1, 6; 9, 3; 2, 1; 2, 8; 8, 8; 0, 5; 9, 4; 3, 9; 7, 8; 9, 7; 3, 2', '2, 0; 1, 0; 7, 1; 9, 2; 2, 6; 2, 7; 1, 6; 9, 3; 2, 1; 2, 8; 8, 8; 0, 5; 9, 4; 3, 9; 7, 8; 9, 7; 3, 2', '2, 0; 1, 0; 7, 1; 9, 2; 2, 6; 2, 7; 1, 6; 9, 3; 2, 1; 2, 8; 8, 8; 0, 5; 9, 4; 3, 9; 7, 8; 9, 7', '2, 0; 1, 0; 7, 1; 9, 2; 2, 6; 2, 7; 1, 6; 9, 3; 2, 1; 2, 8; 8, 8; 0, 5; 9, 4; 3, 9; 7, 8; 9, 7', '2, 0; 1, 0; 7, 1; 9, 2; 2, 6; 2, 7; 1, 6; 9, 3; 2, 1; 2, 8; 8, 8; 0, 5; 9, 4; 3, 9; 7, 8; 9, 7', '2, 0; 1, 0; 7, 1; 9, 2; 2, 6; 2, 7; 1, 6; 9, 3; 2, 1; 2, 8; 8, 8; 0, 5; 9, 4; 3, 9; 7, 8; 9, 7', '2, 0; 1, 0; 7, 1; 9, 2; 2, 6; 2, 7; 1, 6; 9, 3; 2, 1; 2, 8; 8, 8; 0, 5; 9, 4; 3, 9; 7, 8; 9, 7', '2, 0; 1, 0; 7, 1; 9, 2; 2, 6; 2, 7; 1, 6; 9, 3; 2, 1; 2, 8; 8, 8; 0, 5; 9, 4; 3, 9; 7, 8; 9, 7', '2, 0; 1, 0; 7, 1; 9, 2; 2, 6; 2, 7; 1, 6; 9, 3; 2, 1; 2, 8; 8, 8; 0, 5; 9, 4; 3, 9; 7, 8; 9, 7', '2, 0; 1, 0; 9, 2; 2, 6; 2, 7; 1, 6; 9, 3; 2, 1; 2, 8; 8, 8; 0, 5; 9, 4; 3, 9; 7, 8; 9, 7', '2, 0; 1, 0; 9, 2; 2, 6; 2, 7; 1, 6; 9, 3; 2, 1; 2, 8; 8, 8; 0, 5; 9, 4; 3, 9; 7, 8; 9, 7', '2, 0; 1, 0; 9, 2; 2, 6; 2, 7; 1, 6; 9, 3; 2, 1; 2, 8; 8, 8; 0, 5; 9, 4; 3, 9; 7, 8; 9, 7', '2, 0; 1, 0; 2, 6; 2, 7; 1, 6; 9, 3; 2, 1; 2, 8; 8, 8; 0, 5; 9, 4; 3, 9; 7, 8; 9, 7', '2, 0; 1, 0; 2, 6; 2, 7; 1, 6; 9, 3; 2, 1; 2, 8; 8, 8; 0, 5; 9, 4; 3, 9; 7, 8; 9, 7', '2, 0; 1, 0; 2, 6; 2, 7; 1, 6; 9, 3; 2, 1; 2, 8; 8, 8; 0, 5; 9, 4; 3, 9; 7, 8; 9, 7', '2, 0; 1, 0; 2, 6; 2, 7; 1, 6; 9, 3; 2, 1; 2, 8; 8, 8; 0, 5; 9, 4; 3, 9; 7, 8; 9, 7', '2, 0; 1, 0; 2, 6; 2, 7; 1, 6; 9, 3; 2, 1; 2, 8; 8, 8; 0, 5; 9, 4; 3, 9; 7, 8; 9, 7', '2, 0; 1, 0; 2, 6; 2, 7; 1, 6; 9, 3; 2, 1; 2, 8; 8, 8; 0, 5; 9, 4; 3, 9; 7, 8; 9, 7', '2, 0; 1, 0; 2, 6; 2, 7; 1, 6; 9, 3; 2, 1; 2, 8; 8, 8; 0, 5; 9, 4; 3, 9; 7, 8; 9, 7', '2, 0; 1, 0; 2, 6; 2, 7; 1, 6; 9, 3; 2, 1; 2, 8; 8, 8; 0, 5; 9, 4; 3, 9; 7, 8; 9, 7', '2, 0; 1, 0; 2, 6; 2, 7; 1, 6; 9, 3; 2, 1; 2, 8; 8, 8; 0, 5; 9, 4; 3, 9; 7, 8; 9, 7', '2, 0; 1, 0; 2, 6; 2, 7; 1, 6; 9, 3; 2, 1; 2, 8; 8, 8; 0, 5; 9, 4; 3, 9; 7, 8; 9, 7', '2, 0; 1, 0; 2, 6; 2, 7; 1, 6; 9, 3; 2, 1; 2, 8; 8, 8; 0, 5; 9, 4; 3, 9; 7, 8; 9, 7', '2, 0; 1, 0; 2, 6; 2, 7; 1, 6; 9, 3; 2, 1; 2, 8; 8, 8; 0, 5; 9, 4; 3, 9; 7, 8; 9, 7', '2, 0; 1, 0; 2, 6; 2, 7; 1, 6; 9, 3; 2, 1; 2, 8; 8, 8; 0, 5; 9, 4; 3, 9; 7, 8; 9, 7', '2, 0; 1, 0; 2, 6; 2, 7; 1, 6; 9, 3; 2, 1; 2, 8; 8, 8; 0, 5; 9, 4; 3, 9; 7, 8; 9, 7', '2, 0; 1, 0; 2, 6; 2, 7; 1, 6; 9, 3; 2, 1; 2, 8; 8, 8; 0, 5; 9, 4; 3, 9; 7, 8; 9, 7', '2, 0; 1, 0; 2, 6; 2, 7; 1, 6; 9, 3; 2, 1; 2, 8; 8, 8; 0, 5; 9, 4; 3, 9; 7, 8; 9, 7', '2, 0; 1, 0; 2, 6; 2, 7; 1, 6; 9, 3; 2, 1; 2, 8; 8, 8; 0, 5; 9, 4; 3, 9; 7, 8; 9, 7', '2, 0; 1, 0; 2, 6; 2, 7; 1, 6; 9, 3; 2, 1; 2, 8; 8, 8; 0, 5; 9, 4; 3, 9; 7, 8; 9, 7', '2, 0; 1, 0; 2, 6; 2, 7; 1, 6; 9, 3; 2, 1; 2, 8; 8, 8; 9, 4; 3, 9; 7, 8; 9, 7', '2, 0; 1, 0; 2, 6; 2, 7; 1, 6; 9, 3; 2, 1; 2, 8; 8, 8; 9, 4; 3, 9; 7, 8; 9, 7', '2, 0; 1, 0; 2, 6; 2, 7; 1, 6; 9, 3; 2, 1; 2, 8; 8, 8; 9, 4; 3, 9; 7, 8; 9, 7', '2, 0; 1, 0; 2, 6; 2, 7; 1, 6; 9, 3; 2, 1; 2, 8; 8, 8; 9, 4; 3, 9; 7, 8; 9, 7', '2, 0; 1, 0; 2, 6; 2, 7; 1, 6; 9, 3; 2, 1; 2, 8; 8, 8; 9, 4; 3, 9; 7, 8; 9, 7', '2, 0; 1, 0; 2, 6; 2, 7; 1, 6; 9, 3; 2, 1; 2, 8; 8, 8; 9, 4; 3, 9; 7, 8; 9, 7', '2, 0; 1, 0; 2, 6; 2, 7; 1, 6; 9, 3; 2, 1; 2, 8; 8, 8; 9, 4; 3, 9; 7, 8; 9, 7', '2, 0; 1, 0; 2, 6; 2, 7; 1, 6; 9, 3; 2, 1; 2, 8; 8, 8; 9, 4; 3, 9; 7, 8; 9, 7', '2, 0; 1, 0; 2, 6; 2, 7; 1, 6; 9, 3; 2, 1; 2, 8; 8, 8; 9, 4; 3, 9; 7, 8; 9, 7', '2, 0; 1, 0; 2, 6; 2, 7; 1, 6; 9, 3; 2, 1; 2, 8; 8, 8; 9, 4; 3, 9; 7, 8; 9, 7', '2, 0; 1, 0; 2, 6; 2, 7; 1, 6; 9, 3; 2, 1; 2, 8; 8, 8; 9, 4; 3, 9; 7, 8; 9, 7', '2, 0; 1, 0; 2, 6; 2, 7; 1, 6; 9, 3; 2, 1; 2, 8; 8, 8; 9, 4; 3, 9; 7, 8; 9, 7', '2, 0; 1, 0; 2, 6; 2, 7; 1, 6; 9, 3; 2, 1; 2, 8; 8, 8; 9, 4; 3, 9; 7, 8; 9, 7', '2, 0; 1, 0; 2, 6; 2, 7; 9, 3; 2, 1; 2, 8; 8, 8; 9, 4; 3, 9; 7, 8; 9, 7', '2, 0; 1, 0; 2, 7; 9, 3; 2, 1; 2, 8; 8, 8; 9, 4; 3, 9; 7, 8; 9, 7', '2, 0; 1, 0; 2, 7; 9, 3; 2, 1; 2, 8; 8, 8; 9, 4; 3, 9; 7, 8; 9, 7', '2, 0; 1, 0; 2, 7; 9, 3; 2, 1; 2, 8; 8, 8; 9, 4; 3, 9; 7, 8; 9, 7', '2, 0; 1, 0; 2, 7; 9, 3; 2, 1; 2, 8; 8, 8; 9, 4; 3, 9; 7, 8; 9, 7', '2, 0; 1, 0; 2, 7; 9, 3; 2, 1; 8, 8; 9, 4; 3, 9; 7, 8; 9, 7', '2, 0; 1, 0; 9, 3; 2, 1; 8, 8; 9, 4; 3, 9; 7, 8; 9, 7', '2, 0; 1, 0; 9, 3; 2, 1; 8, 8; 9, 4; 3, 9; 7, 8; 9, 7', '2, 0; 1, 0; 9, 3; 2, 1; 8, 8; 9, 4; 3, 9; 7, 8; 9, 7', '2, 0; 1, 0; 9, 3; 2, 1; 8, 8; 9, 4; 3, 9; 7, 8; 9, 7', '2, 0; 1, 0; 9, 3; 2, 1; 8, 8; 9, 4; 3, 9; 7, 8; 9, 7', '2, 0; 1, 0; 9, 3; 2, 1; 8, 8; 9, 4; 7, 8; 9, 7', '2, 0; 1, 0; 9, 3; 2, 1; 8, 8; 9, 4; 7, 8; 9, 7', '2, 0; 1, 0; 9, 3; 2, 1; 8, 8; 9, 4; 7, 8; 9, 7', '2, 0; 1, 0; 9, 3; 2, 1; 8, 8; 9, 4; 7, 8; 9, 7', '2, 0; 1, 0; 9, 3; 2, 1; 8, 8; 9, 4; 7, 8; 9, 7', '2, 0; 1, 0; 9, 3; 2, 1; 8, 8; 9, 4; 7, 8; 9, 7', '2, 0; 1, 0; 9, 3; 2, 1; 8, 8; 9, 4; 7, 8; 9, 7', '2, 0; 1, 0; 9, 3; 2, 1; 8, 8; 9, 4; 7, 8; 9, 7', '2, 0; 1, 0; 9, 3; 2, 1; 8, 8; 9, 4; 7, 8; 9, 7', '2, 0; 1, 0; 9, 3; 2, 1; 8, 8; 9, 4; 7, 8; 9, 7', '2, 0; 1, 0; 9, 3; 2, 1; 8, 8; 9, 4; 7, 8; 9, 7', '2, 0; 1, 0; 9, 3; 2, 1; 8, 8; 9, 4; 7, 8; 9, 7', '2, 0; 1, 0; 9, 3; 2, 1; 8, 8; 9, 4; 7, 8; 9, 7', '2, 0; 1, 0; 9, 3; 2, 1; 8, 8; 9, 4; 7, 8; 9, 7', '2, 0; 1, 0; 9, 3; 2, 1; 8, 8; 9, 4; 7, 8; 9, 7', '2, 0; 1, 0; 9, 3; 2, 1; 8, 8; 9, 4; 7, 8; 9, 7', '2, 0; 1, 0; 9, 3; 2, 1; 8, 8; 9, 4; 7, 8; 9, 7', '2, 0; 1, 0; 9, 3; 2, 1; 8, 8; 9, 4; 7, 8; 9, 7', '2, 0; 1, 0; 9, 3; 2, 1; 8, 8; 9, 4; 7, 8; 9, 7', '2, 0; 1, 0; 9, 3; 2, 1; 8, 8; 9, 4; 7, 8; 9, 7', '2, 0; 1, 0; 9, 3; 2, 1; 8, 8; 9, 4; 7, 8; 9, 7', '2, 0; 1, 0; 9, 3; 2, 1; 8, 8; 9, 4; 7, 8; 9, 7', '2, 0; 1, 0; 9, 3; 2, 1; 8, 8; 9, 4; 7, 8; 9, 7', '2, 0; 1, 0; 9, 3; 2, 1; 8, 8; 9, 4; 7, 8; 9, 7', '2, 0; 1, 0; 9, 3; 2, 1; 8, 8; 9, 4; 7, 8; 9, 7', '2, 0; 1, 0; 9, 3; 2, 1; 8, 8; 7, 8; 9, 7', '2, 0; 1, 0; 2, 1; 8, 8; 7, 8; 9, 7', '2, 0; 1, 0; 2, 1; 8, 8; 7, 8; 9, 7', '2, 0; 1, 0; 2, 1; 8, 8; 7, 8; 9, 7', '2, 0; 1, 0; 2, 1; 8, 8; 7, 8; 9, 7', '2, 0; 1, 0; 2, 1; 8, 8; 7, 8; 9, 7', '2, 0; 1, 0; 2, 1; 8, 8; 7, 8; 9, 7', '2, 0; 1, 0; 2, 1; 8, 8; 7, 8; 9, 7', '2, 0; 1, 0; 2, 1; 8, 8; 7, 8; 9, 7', '2, 0; 1, 0; 2, 1; 8, 8; 7, 8; 9, 7', '2, 0; 1, 0; 2, 1; 8, 8; 9, 7', '2, 0; 1, 0; 2, 1; 8, 8; 9, 7', '2, 0; 1, 0; 2, 1; 8, 8; 9, 7', '2, 0; 1, 0; 2, 1; 8, 8', '2, 0; 1, 0; 2, 1; 8, 8', '2, 0; 1, 0; 2, 1; 8, 8', '2, 0; 1, 0; 2, 1; 8, 8', '2, 0; 1, 0; 2, 1; 8, 8', '2, 0; 1, 0; 2, 1; 8, 8', '2, 0; 1, 0; 2, 1; 8, 8', '2, 0; 1, 0; 2, 1; 8, 8', '2, 0; 1, 0; 2, 1; 8, 8', '2, 0; 1, 0; 2, 1; 8, 8', '2, 0; 1, 0; 2, 1; 8, 8', '2, 0; 1, 0; 2, 1; 8, 8', '2, 0; 1, 0; 2, 1; 8, 8', '2, 0; 1, 0; 2, 1', '2, 0; 1, 0; 2, 1', '2, 0; 1, 0; 2, 1', '2, 0; 1, 0; 2, 1', '2, 0; 1, 0; 2, 1', '2, 0; 1, 0; 2, 1', '2, 0; 1, 0; 2, 1', '2, 0; 1, 0; 2, 1', '2, 0; 1, 0; 2, 1', '2, 0; 1, 0; 2, 1', '2, 0; 1, 0; 2, 1', '2, 0; 1, 0; 2, 1', '2, 0; 1, 0; 2, 1', '2, 0; 1, 0; 2, 1', '2, 0; 1, 0; 2, 1', '2, 0; 1, 0; 2, 1', '2, 0; 1, 0; 2, 1', '2, 0; 1, 0; 2, 1', '2, 0; 1, 0; 2, 1', '2, 0; 1, 0; 2, 1', '2, 0; 1, 0; 2, 1', '2, 0; 1, 0; 2, 1', '2, 0; 1, 0; 2, 1', '2, 0; 1, 0; 2, 1', '2, 0; 1, 0; 2, 1', '2, 0; 1, 0; 2, 1', '2, 0; 1, 0; 2, 1', '2, 0; 1, 0; 2, 1', '2, 0; 1, 0; 2, 1', '2, 0; 1, 0; 2, 1', '2, 0; 1, 0; 2, 1', '2, 0; 1, 0', '1, 0'];\n",
       "                player1_location = [[0, 0], [0, 1], [0, 2], [0, 3], [0, 3], [1, 3], [2, 3], [2, 2], [2, 3], [3, 3], [3, 4], [3, 5], [3, 6], [3, 7], [4, 7], [4, 8], [4, 7], [5, 7], [6, 7], [5, 7], [5, 8], [5, 9], [4, 9], [5, 9], [6, 9], [7, 9], [6, 9], [5, 9], [5, 8], [5, 7], [4, 7], [3, 7], [3, 6], [3, 5], [3, 4], [3, 3], [4, 3], [4, 4], [4, 3], [4, 2], [3, 2], [3, 1], [4, 1], [4, 0], [5, 0], [5, 1], [6, 1], [7, 1], [8, 1], [9, 1], [9, 2], [9, 1], [8, 1], [7, 1], [6, 1], [5, 1], [5, 0], [4, 0], [4, 1], [4, 1], [4, 2], [4, 3], [3, 3], [2, 3], [1, 3], [1, 3], [0, 3], [0, 4], [0, 5], [0, 4], [0, 3], [0, 3], [1, 3], [1, 3], [1, 3], [1, 3], [1, 3], [1, 3], [1, 3], [1, 4], [1, 5], [1, 6], [2, 6], [1, 6], [1, 7], [1, 8], [2, 8], [2, 7], [2, 8], [1, 8], [1, 9], [2, 9], [3, 9], [2, 9], [1, 9], [1, 8], [1, 7], [1, 6], [1, 5], [1, 4], [1, 4], [1, 4], [1, 4], [1, 4], [1, 4], [1, 4], [1, 3], [2, 3], [3, 3], [4, 3], [4, 4], [5, 4], [6, 4], [6, 5], [7, 5], [8, 5], [8, 4], [9, 4], [9, 3], [9, 4], [8, 4], [8, 5], [7, 5], [6, 5], [6, 6], [7, 6], [7, 7], [7, 8], [7, 7], [8, 7], [9, 7], [8, 7], [7, 7], [7, 8], [7, 8], [7, 8], [7, 8], [7, 8], [7, 8], [7, 8], [7, 8], [7, 8], [7, 8], [8, 8], [8, 8], [8, 8], [8, 8], [8, 8], [8, 8], [8, 8], [8, 8], [8, 8], [8, 8], [7, 8], [7, 7], [7, 6], [6, 6], [6, 5], [6, 4], [5, 4], [4, 4], [4, 3], [4, 2], [3, 2], [3, 1], [3, 1], [3, 1], [3, 1], [3, 1], [3, 1], [3, 1], [3, 1], [3, 1], [3, 1], [2, 1], [2, 0], [1, 0]];\n",
       "                player2_location = [[-1, -1], [-1, -1], [-1, -1], [-1, -1], [-1, -1], [-1, -1], [-1, -1], [-1, -1], [-1, -1], [-1, -1], [-1, -1], [-1, -1], [-1, -1], [-1, -1], [-1, -1], [-1, -1], [-1, -1], [-1, -1], [-1, -1], [-1, -1], [-1, -1], [-1, -1], [-1, -1], [-1, -1], [-1, -1], [-1, -1], [-1, -1], [-1, -1], [-1, -1], [-1, -1], [-1, -1], [-1, -1], [-1, -1], [-1, -1], [-1, -1], [-1, -1], [-1, -1], [-1, -1], [-1, -1], [-1, -1], [-1, -1], [-1, -1], [-1, -1], [-1, -1], [-1, -1], [-1, -1], [-1, -1], [-1, -1], [-1, -1], [-1, -1], [-1, -1], [-1, -1], [-1, -1], [-1, -1], [-1, -1], [-1, -1], [-1, -1], [-1, -1], [-1, -1], [-1, -1], [-1, -1], [-1, -1], [-1, -1], [-1, -1], [-1, -1], [-1, -1], [-1, -1], [-1, -1], [-1, -1], [-1, -1], [-1, -1], [-1, -1], [-1, -1], [-1, -1], [-1, -1], [-1, -1], [-1, -1], [-1, -1], [-1, -1], [-1, -1], [-1, -1], [-1, -1], [-1, -1], [-1, -1], [-1, -1], [-1, -1], [-1, -1], [-1, -1], [-1, -1], [-1, -1], [-1, -1], [-1, -1], [-1, -1], [-1, -1], [-1, -1], [-1, -1], [-1, -1], [-1, -1], [-1, -1], [-1, -1], [-1, -1], [-1, -1], [-1, -1], [-1, -1], [-1, -1], [-1, -1], [-1, -1], [-1, -1], [-1, -1], [-1, -1], [-1, -1], [-1, -1], [-1, -1], [-1, -1], [-1, -1], [-1, -1], [-1, -1], [-1, -1], [-1, -1], [-1, -1], [-1, -1], [-1, -1], [-1, -1], [-1, -1], [-1, -1], [-1, -1], [-1, -1], [-1, -1], [-1, -1], [-1, -1], [-1, -1], [-1, -1], [-1, -1], [-1, -1], [-1, -1], [-1, -1], [-1, -1], [-1, -1], [-1, -1], [-1, -1], [-1, -1], [-1, -1], [-1, -1], [-1, -1], [-1, -1], [-1, -1], [-1, -1], [-1, -1], [-1, -1], [-1, -1], [-1, -1], [-1, -1], [-1, -1], [-1, -1], [-1, -1], [-1, -1], [-1, -1], [-1, -1], [-1, -1], [-1, -1], [-1, -1], [-1, -1], [-1, -1], [-1, -1], [-1, -1], [-1, -1], [-1, -1], [-1, -1], [-1, -1], [-1, -1], [-1, -1], [-1, -1], [-1, -1], [-1, -1], [-1, -1], [-1, -1], [-1, -1]];\n",
       "                turn = 0;\n",
       "                max_turn = 177;\n",
       "                resize = true;\n",
       "                </script>\n",
       "\n",
       "            "
      ],
      "text/plain": [
       "<IPython.core.display.HTML object>"
      ]
     },
     "metadata": {},
     "output_type": "display_data"
    },
    {
     "name": "stdout",
     "output_type": "stream",
     "text": [
      "the distance needed to explore all pieces of cheese was: 177\n"
     ]
    }
   ],
   "source": [
    "import pyrat\n",
    "#\n",
    "# AUTOGRADER TEST - DO NOT REMOVE\n",
    "#\n",
    "\n",
    "pyrat.pieces=30\n",
    "maze_start = (10, 10, [(2, 0), (1, 3), (6, 7), (4, 4), (1, 0), (7, 1), (9, 2), (2, 6), (2, 7), (2, 3), (2, 2), (4, 9), (4, 8), (1, 6), (7, 9), (9, 3), (4, 7), (2, 1), (3, 6), (2, 8), (8, 8), (0, 5), (5, 7), (9, 4), (3, 9), (3, 4), (5, 8), (7, 8), (9, 7), (3, 2)], {(0, 0): {(0, 1): 1}, (0, 1): {(0, 0): 1, (0, 2): 1}, (0, 2): {(0, 3): 1, (0, 1): 1}, (0, 3): {(1, 3): 2, (0, 4): 1, (0, 2): 1}, (0, 4): {(0, 3): 1, (0, 5): 1}, (0, 5): {(0, 4): 1, (0, 6): 1}, (0, 6): {(0, 5): 1, (0, 7): 1}, (0, 7): {(0, 6): 1}, (0, 8): {(0, 9): 1}, (0, 9): {(0, 8): 1, (1, 9): 1}, (1, 0): {(2, 0): 1, (1, 1): 1}, (1, 1): {(1, 0): 1}, (1, 2): {(2, 2): 1, (1, 3): 1}, (1, 3): {(0, 3): 2, (1, 2): 1, (2, 3): 1, (1, 4): 7}, (1, 4): {(1, 5): 1, (1, 3): 7}, (1, 5): {(1, 4): 1, (2, 5): 1, (1, 6): 1}, (1, 6): {(1, 5): 1, (2, 6): 1, (1, 7): 1}, (1, 7): {(1, 6): 1, (1, 8): 1}, (1, 8): {(1, 7): 1, (2, 8): 1, (1, 9): 1}, (1, 9): {(0, 9): 1, (1, 8): 1, (2, 9): 1}, (2, 0): {(1, 0): 1, (2, 1): 1}, (2, 1): {(2, 0): 1, (3, 1): 10}, (2, 2): {(1, 2): 1, (2, 3): 1}, (2, 3): {(1, 3): 1, (2, 2): 1, (3, 3): 1}, (2, 4): {(3, 4): 1}, (2, 5): {(1, 5): 1}, (2, 6): {(1, 6): 1}, (2, 7): {(2, 8): 1}, (2, 8): {(1, 8): 1, (2, 7): 1}, (2, 9): {(1, 9): 1, (3, 9): 1}, (3, 0): {(3, 1): 1}, (3, 1): {(2, 1): 10, (4, 1): 1, (3, 2): 1, (3, 0): 1}, (3, 2): {(3, 1): 1, (4, 2): 1}, (3, 3): {(2, 3): 1, (4, 3): 1, (3, 4): 1}, (3, 4): {(2, 4): 1, (3, 3): 1, (3, 5): 1}, (3, 5): {(4, 5): 1, (3, 6): 1, (3, 4): 1}, (3, 6): {(3, 5): 1, (3, 7): 1}, (3, 7): {(4, 7): 1, (3, 6): 1}, (3, 8): {(4, 8): 1}, (3, 9): {(2, 9): 1}, (4, 0): {(4, 1): 1, (5, 0): 1}, (4, 1): {(3, 1): 1, (4, 0): 1, (4, 2): 2}, (4, 2): {(3, 2): 1, (4, 1): 2, (4, 3): 1}, (4, 3): {(3, 3): 1, (4, 2): 1, (4, 4): 1}, (4, 4): {(4, 3): 1, (5, 4): 1}, (4, 5): {(3, 5): 1, (4, 6): 1, (5, 5): 1}, (4, 6): {(4, 5): 1}, (4, 7): {(3, 7): 1, (5, 7): 1, (4, 8): 1}, (4, 8): {(3, 8): 1, (4, 7): 1}, (4, 9): {(5, 9): 1}, (5, 0): {(6, 0): 1, (5, 1): 1, (4, 0): 1}, (5, 1): {(5, 0): 1, (6, 1): 1, (5, 2): 1}, (5, 2): {(5, 3): 1, (5, 1): 1, (6, 2): 1}, (5, 3): {(5, 2): 1}, (5, 4): {(6, 4): 1, (4, 4): 1}, (5, 5): {(4, 5): 1}, (5, 6): {(6, 6): 1}, (5, 7): {(4, 7): 1, (5, 8): 1, (6, 7): 1}, (5, 8): {(5, 7): 1, (5, 9): 1}, (5, 9): {(4, 9): 1, (5, 8): 1, (6, 9): 1}, (6, 0): {(5, 0): 1, (7, 0): 1}, (6, 1): {(5, 1): 1, (7, 1): 1}, (6, 2): {(5, 2): 1}, (6, 3): {(6, 4): 1}, (6, 4): {(5, 4): 1, (6, 3): 1, (6, 5): 1, (7, 4): 1}, (6, 5): {(6, 4): 1, (7, 5): 1, (6, 6): 1}, (6, 6): {(6, 5): 1, (7, 6): 1, (5, 6): 1}, (6, 7): {(5, 7): 1}, (6, 8): {(7, 8): 1}, (6, 9): {(7, 9): 1, (5, 9): 1}, (7, 0): {(6, 0): 1, (8, 0): 1}, (7, 1): {(6, 1): 1, (8, 1): 1}, (7, 2): {(7, 3): 1}, (7, 3): {(7, 2): 1, (7, 4): 1}, (7, 4): {(6, 4): 1, (7, 3): 1}, (7, 5): {(6, 5): 1, (8, 5): 1}, (7, 6): {(7, 7): 1, (6, 6): 1}, (7, 7): {(7, 6): 1, (7, 8): 1, (8, 7): 1}, (7, 8): {(6, 8): 1, (7, 7): 1, (8, 8): 10}, (7, 9): {(6, 9): 1, (8, 9): 1}, (8, 0): {(9, 0): 1, (7, 0): 1}, (8, 1): {(9, 1): 1, (7, 1): 1}, (8, 2): {(9, 2): 2}, (8, 3): {(8, 4): 1}, (8, 4): {(9, 4): 1, (8, 5): 1, (8, 3): 1}, (8, 5): {(8, 4): 1, (8, 6): 1, (9, 5): 1, (7, 5): 1}, (8, 6): {(8, 5): 1, (9, 6): 1}, (8, 7): {(9, 7): 1, (7, 7): 1}, (8, 8): {(7, 8): 10}, (8, 9): {(9, 9): 10, (7, 9): 1}, (9, 0): {(8, 0): 1}, (9, 1): {(8, 1): 1, (9, 2): 1}, (9, 2): {(8, 2): 2, (9, 1): 1}, (9, 3): {(9, 4): 1}, (9, 4): {(8, 4): 1, (9, 3): 1}, (9, 5): {(8, 5): 1}, (9, 6): {(8, 6): 1}, (9, 7): {(8, 7): 1, (9, 8): 1}, (9, 8): {(9, 7): 1}, (9, 9): {(8, 9): 10}})\n",
    "pyrat.start_display()\n",
    "game = pyrat.Game(turn_1=turn,maze_start=maze_start,player1_start=(0,0))\n",
    "game.play_match()\n",
    "pyrat.display_game(game)\n",
    "print(\"the distance needed to explore all pieces of cheese was: {}\".format(game.turn_count))"
   ]
  },
  {
   "cell_type": "markdown",
   "metadata": {
    "nbgrader": {
     "grade": false,
     "locked": true,
     "solution": false
    }
   },
   "source": [
    "After correctly defining the functions executing the test cell, the result should be:\n",
    "\n",
    "    the distance needed to explore all pieces of cheese was: 177\n"
   ]
  },
  {
   "cell_type": "markdown",
   "metadata": {
    "collapsed": true,
    "nbgrader": {
     "grade": false,
     "grade_id": "cell-1dc83d2af78644ec",
     "locked": true,
     "schema_version": 1,
     "solution": false
    }
   },
   "source": [
    "## Exercice C (1pt)\n",
    "\n",
    "Congratulations! If you have successfully been following our lab sessions you should now have tested two methods of search for the Traveling Salesman Problem(TSP), a brute force one and an heuristic one (greedy).\n",
    "\n",
    "Given that the complexity of the heuristic one is way smaller than the brute force, we should also compare the accuracy of both methods, especially because our heuristic (\"always go to the closest piece of cheese\") does not guarantee an optimal solution.\n",
    "\n",
    "In this exercise you will compare the use of both algorithms on a random complete graph. The objective is to see which one is more efficient in regards to the number of movements needed to traverse the graph and what is the order of magnitude of the difference.\n",
    "\n",
    "You will need to define the greedy_complete_graph which uses the greedy algorithm to explore all vertices in a complete graph. In more details, the greedy_complete_graph function takes two arguments: the graph described by an adjacency matrix (we suppose vertices are indexed from 0 to n-1, where n is the order of the graph, and the initial_vertex, which is an integer between 0 and n-1. The output of this function is the total length of a walk going through all vertices of the graph and using the previously definied heuristic of systematically going to the closest unexplored vertex in the graph.\n",
    "\n",
    "You will then have to define the bruteforce_complete_graph algorithm that uses the bruteforce algorithm seen in week 4 to find the shortest walk going through all vertices of the graph. It takes the same arguments as inputs as the greedy_complete_graph function, and outputs the shortest length of the corresponding walk. In other words, the only difference with the lab from week 4 is that it is only interested in the LENGTH of the shortest path, but does not return such a shortest path. \n",
    "\n",
    "Note that in this exercise, to reduce complexity, the input complete graph on which the tests are performed is represented by a list of lists instead of the usual dictionary of dictionaries."
   ]
  },
  {
   "cell_type": "code",
   "execution_count": 119,
   "metadata": {
    "nbgrader": {
     "grade": false,
     "grade_id": "exercice_C",
     "locked": false,
     "points": "1",
     "schema_version": 1,
     "solution": true
    }
   },
   "outputs": [],
   "source": [
    "import numpy as np\n",
    "infinity = 10000000\n",
    "\n",
    "def greedy_complete_graph(graph, initial_vertex):\n",
    "    \n",
    "    current_distance = 0\n",
    "    explored_vertices = [initial_vertex]\n",
    "    vertex_to_explore = [i for i in range(len(graph)) if i != initial_vertex]\n",
    "    \n",
    "    while sorted(explored_vertices) != [i for i in range(len(graph))]:\n",
    "        \n",
    "        next_target = choose_target(graph[initial_vertex],vertex_to_explore)\n",
    "        current_distance += graph[initial_vertex][next_target]\n",
    "        explored_vertices.append(next_target)\n",
    "        vertex_to_explore = [i for i in vertex_to_explore if i != next_target]\n",
    "        initial_vertex = next_target\n",
    "\n",
    "    return current_distance\n",
    "\n",
    "\n",
    "\n",
    "best_distance = infinity\n",
    "\n",
    "def bruteforce_complete_graph_auxiliary_function(remaining_vertices, current_vertex, current_distance, graph):\n",
    "    global best_distance\n",
    "    \n",
    "    if len(remaining_vertices)==0:\n",
    "        if current_distance < best_distance:\n",
    "            best_distance = current_distance\n",
    "    else:\n",
    "        for vertex in remaining_vertices:\n",
    "            new_vertices = remaining_vertices.copy()\n",
    "            new_vertices.remove(vertex)\n",
    "            bruteforce_complete_graph_auxiliary_function(new_vertices, vertex, current_distance + graph[current_vertex][vertex], graph)\n",
    "\n",
    "\n",
    "def bruteforce_complete_graph(graph, initial_vertex):\n",
    "    global best_distance\n",
    "    best_distance = infinity\n",
    "    remaining_vertices = list(range(len(graph)))    \n",
    "    remaining_vertices.remove(initial_vertex)    \n",
    "    bruteforce_complete_graph_auxiliary_function(remaining_vertices, initial_vertex, 0, graph)\n",
    "    return best_distance\n"
   ]
  },
  {
   "cell_type": "code",
   "execution_count": 120,
   "metadata": {
    "deletable": false,
    "nbgrader": {
     "grade": true,
     "grade_id": "exercice_C",
     "locked": true,
     "points": "1",
     "schema_version": 1,
     "solution": false
    }
   },
   "outputs": [
    {
     "name": "stdout",
     "output_type": "stream",
     "text": [
      "the distance needed to explore all pieces of cheese using greedy algorithm is: 87\n",
      "the distance needed to explore all pieces of cheese using bruteforce is: 81\n"
     ]
    }
   ],
   "source": [
    "#\n",
    "# AUTOGRADER TEST - DO NOT REMOVE\n",
    "#\n",
    "\n",
    "\n",
    "graph = [[0, 20, 24, 28, 30],[20, 0, 21, 22, 27],[24, 21, 0, 23, 16],[28, 22, 23, 0, 30],[30, 27, 16, 30, 0]]\n",
    "        \n",
    "distance_greedy = greedy_complete_graph(graph, 0)\n",
    "distance_bf = bruteforce_complete_graph(graph, 0)\n",
    "\n",
    "print(\"the distance needed to explore all pieces of cheese using greedy algorithm is: {}\".format(distance_greedy))\n",
    "print(\"the distance needed to explore all pieces of cheese using bruteforce is: {}\".format(distance_bf))\n"
   ]
  },
  {
   "cell_type": "markdown",
   "metadata": {
    "nbgrader": {
     "grade": false,
     "grade_id": "cell-10e9a4b35bb73197",
     "locked": true,
     "schema_version": 1,
     "solution": false
    }
   },
   "source": [
    "After correctly defining greedy_complete_graph and bruteforce_complete_graph and executing the test cell, the result should be:\n",
    "\n",
    "    the distance needed to explore all pieces of cheese using greedy algorithm is: 87\n",
    "    the distance needed to explore all pieces of cheese using bruteforce is: 81\n",
    "\n",
    "We observe a significative difference. Now the question is: are the graphs generated with the game PyRat also sensitive to the difference between a bruteforce and a greedy algorithm?"
   ]
  },
  {
   "cell_type": "markdown",
   "metadata": {
    "nbgrader": {
     "grade": false,
     "grade_id": "cell-e15b4a2848f96a3f",
     "locked": true,
     "schema_version": 1,
     "solution": false
    }
   },
   "source": [
    "## Exercice D (1pt)\n",
    "\n",
    "You have now compared the efficiency of the brute force algorithm and the greedy algorithm on complete graphs. But how does that translate to our \"real case\" (PyRat)?\n",
    "\n",
    "In this exercise, you will compare the efficiency in terms of distance to collect all the pieces of cheese on mazes that come from PyRat games. The algorithms that you are going to compare are the bruteforce search for the Traveling Salesman Problem (TSP), and the greedy algorithm.\n",
    "\n",
    "You will need to define the greedy_pyrat_maze which uses the greedy algorithm to explore all pieces of cheese in a maze graph. It takes as input the maze_graph of the game, the list of pieces of cheese, and the player_location. It uses the utils.Dijkstra and choose_target functions to find the total length of the exploration and returns it."
   ]
  },
  {
   "cell_type": "code",
   "execution_count": 122,
   "metadata": {
    "collapsed": true
   },
   "outputs": [],
   "source": [
    "??choose_target\n",
    "\n"
   ]
  },
  {
   "cell_type": "code",
   "execution_count": 123,
   "metadata": {
    "collapsed": true,
    "nbgrader": {
     "grade": false,
     "grade_id": "exercice_D",
     "locked": false,
     "points": "1",
     "schema_version": 1,
     "solution": true
    }
   },
   "outputs": [],
   "source": [
    "def greedy_function_pyrat_maze(maze_graph, pieces_of_cheese, player_location):\n",
    "    current_distance = 0\n",
    "    current_walk = [player_location]\n",
    "    \n",
    "    while len(pieces_of_cheese) != 0:\n",
    "        \n",
    "        labeled_vertices, parent_dict, distances = utils.Dijkstra(maze_graph,player_location)\n",
    "        next_target = choose_target(distances, pieces_of_cheese)\n",
    "        \n",
    "        player_location = next_target\n",
    "        current_distance += distances[next_target]\n",
    "        current_walk.append(next_target)\n",
    "        pieces_of_cheese.remove(next_target)\n",
    "        \n",
    "    return current_walk, current_distance"
   ]
  },
  {
   "cell_type": "code",
   "execution_count": 124,
   "metadata": {
    "deletable": false,
    "nbgrader": {
     "grade": true,
     "grade_id": "exercice_D",
     "locked": true,
     "points": "1",
     "schema_version": 1,
     "solution": false
    }
   },
   "outputs": [
    {
     "name": "stdout",
     "output_type": "stream",
     "text": [
      "the walk performed using greedy algorithm is : [(0, 0), (0, 1), (0, 4), (5, 4), (4, 5), (4, 1), (5, 0)]\n",
      "the walk performed using bruteforce is: [(0, 0), (0, 1), (0, 4), (4, 5), (5, 4), (4, 1), (5, 0)]\n",
      "the distance needed to explore all pieces of cheese using greedy algorithm is: 191\n",
      "the distance needed to explore all pieces of cheese using bruteforce is: 184\n"
     ]
    }
   ],
   "source": [
    "#\n",
    "# AUTOGRADER TEST - DO NOT REMOVE\n",
    "#\n",
    "from imports import maze\n",
    "width = 6\n",
    "height = 7\n",
    "number_of_cheeses = 6\n",
    "_,_,_,maze_graph = maze.generate_maze(width,height,0,True,False,0.95,25,\"\",0)\n",
    "pieces_of_cheese,player1_location,_ = maze.generate_pieces_of_cheese(\n",
    "    number_of_cheeses, width, height, False, None, None, False)\n",
    "pieces_of_cheese_bt=pieces_of_cheese.copy()\n",
    "\n",
    "walk_greedy,distance_greedy=greedy_function_pyrat_maze(maze_graph,pieces_of_cheese,player1_location)\n",
    "walk_bf,distance_bf = utils.bruteforceTSP(maze_graph,pieces_of_cheese_bt,player1_location)\n",
    "\n",
    "print(\"the walk performed using greedy algorithm is : {}\".format(walk_greedy))\n",
    "print(\"the walk performed using bruteforce is: {}\".format(walk_bf))\n",
    "\n",
    "print(\"the distance needed to explore all pieces of cheese using greedy algorithm is: {}\".format(distance_greedy))\n",
    "print(\"the distance needed to explore all pieces of cheese using bruteforce is: {}\".format(distance_bf))"
   ]
  },
  {
   "cell_type": "markdown",
   "metadata": {
    "nbgrader": {
     "grade": false,
     "grade_id": "cell-99db7863bae871f1",
     "locked": true,
     "schema_version": 1,
     "solution": false
    }
   },
   "source": [
    "After correctly defining greedy_function_py and executing the test cell, the result should be:\n",
    "\n",
    "```\n",
    "the walk performed using greedy algorithm is : [(0, 0), (0, 1), (0, 4), (5, 4), (4, 5), (4, 1), (5, 0)]\n",
    "the walk performed using bruteforce is: [(0, 0), (0, 1), (0, 4), (4, 5), (5, 4), (4, 1), (5, 0)]\n",
    "the distance needed to explore all pieces of cheese using greedy algorithm is: 191\n",
    "the distance needed to explore all pieces of cheese using bruteforce is: 184\n",
    "```\n",
    "\n",
    "Note that when we use maze graphs which represent the maze in PyRat game, the difference still exists. However, recall that the computation time required for the bruteforce approach is way larger than that for the greedy algorithm."
   ]
  },
  {
   "cell_type": "markdown",
   "metadata": {
    "nbgrader": {
     "grade": false,
     "grade_id": "cell-e8684ff2e67b03f7",
     "locked": true,
     "schema_version": 1,
     "solution": false
    }
   },
   "source": [
    "## Extra\n",
    "\n",
    "In this Lab we defined greedy algorithm and compred it with bruteforce search on a random complete graph, and mazes that come from PyRat games.\n",
    "\n",
    "In this extra exercice, we will see how the complexity of greedy algorithm changes as a function of mazegraph size. To do this, we plot the time needed for greedy algorithm to approximately solve the Traveling Salesman Problem, with as a function of mazegraph size. In the cell below you will see a graph showing how the execution time of the greedy algorithm varies given graphs of different sizes."
   ]
  },
  {
   "cell_type": "code",
   "execution_count": null,
   "metadata": {
    "collapsed": true,
    "nbgrader": {
     "grade": false,
     "grade_id": "cell-9fe70b1044c2476f",
     "locked": true,
     "schema_version": 1,
     "solution": false
    }
   },
   "outputs": [],
   "source": [
    "import time\n",
    "%matplotlib inline\n",
    "import matplotlib.pyplot as plt\n",
    "\n",
    "\n",
    "maze_shape = [(3,3),(5,6),(6,7),(9,10),(11,13),(14,14),(18,19)]\n",
    "poc = [2,4,6,10,18,25,30]\n",
    "maze_size = list()\n",
    "greedy_time = list()\n",
    "for i in range(len(maze_shape)):\n",
    "    width,height = maze_shape[i]\n",
    "    _,_,_,maze_graph = maze.generate_maze(width,height,0,True,False,0.5,5,\"\",0)\n",
    "    pieces_of_cheese,player1_location,_ = maze.generate_pieces_of_cheese(poc[i], width, height, False, None, None, False)\n",
    "    start = time.time()\n",
    "    walk,distance = greedy_function_pyrat_maze(maze_graph,pieces_of_cheese,player1_location)\n",
    "    greedy_time.append(time.time() - start)\n",
    "    maze_size.append(width*height)\n",
    "plt.plot(maze_size,greedy_time,color=\"blue\")"
   ]
  }
 ],
 "metadata": {
  "kernelspec": {
   "display_name": "Python 3 [3.6]",
   "language": "python",
   "name": "python3"
  },
  "language_info": {
   "codemirror_mode": {
    "name": "ipython",
    "version": 3
   },
   "file_extension": ".py",
   "mimetype": "text/x-python",
   "name": "python",
   "nbconvert_exporter": "python",
   "pygments_lexer": "ipython3",
   "version": "3.6.4"
  }
 },
 "nbformat": 4,
 "nbformat_minor": 2
}
